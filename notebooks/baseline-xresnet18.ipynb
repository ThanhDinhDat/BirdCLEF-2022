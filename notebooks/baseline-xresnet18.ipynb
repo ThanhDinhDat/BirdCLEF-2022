{
 "cells": [
  {
   "cell_type": "markdown",
   "metadata": {},
   "source": [
    "# General\n",
    "- Baseline with naive solution Xresnet18\n",
    "- Best Acc: 38.8"
   ]
  },
  {
   "cell_type": "code",
   "execution_count": 1,
   "metadata": {
    "_kg_hide-input": true,
    "_kg_hide-output": true,
    "execution": {
     "iopub.execute_input": "2022-02-24T15:43:28.633662Z",
     "iopub.status.busy": "2022-02-24T15:43:28.632584Z",
     "iopub.status.idle": "2022-02-24T15:47:11.950176Z",
     "shell.execute_reply": "2022-02-24T15:47:11.950661Z",
     "shell.execute_reply.started": "2022-02-24T15:31:15.937236Z"
    },
    "papermill": {
     "duration": 223.369956,
     "end_time": "2022-02-24T15:47:11.951000",
     "exception": false,
     "start_time": "2022-02-24T15:43:28.581044",
     "status": "completed"
    },
    "tags": []
   },
   "outputs": [],
   "source": [
    "# import pkg_resources\n",
    "\n",
    "# def placeholder(x):\n",
    "#     raise pkg_resources.DistributionNotFound\n",
    "# pkg_resources.get_distribution = placeholder\n",
    "\n",
    "# !pip uninstall fastai fastcore torchaudio -y\n",
    "# #!pip install torch==1.8.1 torchaudio==0.8.1 fastcore==1.3.20\n",
    "# !pip install torch==1.9.0 torchaudio==0.9.0\n",
    "# !pip install fastaudio"
   ]
  },
  {
   "cell_type": "code",
   "execution_count": 2,
   "metadata": {
    "_kg_hide-input": true,
    "_kg_hide-output": true,
    "execution": {
     "iopub.execute_input": "2022-02-24T15:47:13.911728Z",
     "iopub.status.busy": "2022-02-24T15:47:13.911119Z",
     "iopub.status.idle": "2022-02-24T15:47:57.981483Z",
     "shell.execute_reply": "2022-02-24T15:47:57.980852Z",
     "shell.execute_reply.started": "2022-02-24T15:32:42.173518Z"
    },
    "papermill": {
     "duration": 45.052623,
     "end_time": "2022-02-24T15:47:57.981656",
     "exception": false,
     "start_time": "2022-02-24T15:47:12.929033",
     "status": "completed"
    },
    "tags": []
   },
   "outputs": [],
   "source": [
    "# try:\n",
    "#     import pycaret\n",
    "# except:\n",
    "#     !pip install pycaret-nightly"
   ]
  },
  {
   "cell_type": "code",
   "execution_count": 3,
   "metadata": {
    "_kg_hide-output": true,
    "execution": {
     "iopub.execute_input": "2022-02-24T15:48:04.465475Z",
     "iopub.status.busy": "2022-02-24T15:48:04.464774Z",
     "iopub.status.idle": "2022-02-24T15:48:08.071660Z",
     "shell.execute_reply": "2022-02-24T15:48:08.071120Z",
     "shell.execute_reply.started": "2022-02-24T15:32:42.184264Z"
    },
    "papermill": {
     "duration": 4.842793,
     "end_time": "2022-02-24T15:48:08.071818",
     "exception": false,
     "start_time": "2022-02-24T15:48:03.229025",
     "status": "completed"
    },
    "tags": []
   },
   "outputs": [
    {
     "name": "stderr",
     "output_type": "stream",
     "text": [
      "/home/kitemetric/anaconda3/envs/birdclef/lib/python3.8/site-packages/torchaudio/backend/utils.py:46: UserWarning: \"torchaudio.USE_SOUNDFILE_LEGACY_INTERFACE\" flag is deprecated and will be removed in 0.9.0. Please remove the use of flag.\n",
      "  warnings.warn(\n",
      "/home/kitemetric/anaconda3/envs/birdclef/lib/python3.8/site-packages/torchaudio/backend/utils.py:46: UserWarning: \"torchaudio.USE_SOUNDFILE_LEGACY_INTERFACE\" flag is deprecated and will be removed in 0.9.0. Please remove the use of flag.\n",
      "  warnings.warn(\n"
     ]
    }
   ],
   "source": [
    "import os\n",
    "import librosa\n",
    "from tqdm import tqdm\n",
    "\n",
    "import pandas as pd\n",
    "from fastaudio.all import *\n",
    "from fastai.vision.all import *\n",
    "\n",
    "import torch\n",
    "import fastcore\n",
    "import fastai\n",
    "import torchaudio\n",
    "torchaudio.set_audio_backend(\"sox_io\")\n",
    "\n",
    "import seaborn as sns\n",
    "import matplotlib.pyplot as plt\n",
    "from matplotlib import rcParams\n",
    "import plotly.express as px\n",
    "\n",
    "from sklearn.preprocessing import LabelEncoder\n",
    "\n",
    "import warnings\n",
    "warnings.filterwarnings(action='ignore')"
   ]
  },
  {
   "cell_type": "markdown",
   "metadata": {
    "papermill": {
     "duration": 1.041219,
     "end_time": "2022-02-24T15:48:12.454915",
     "exception": false,
     "start_time": "2022-02-24T15:48:11.413696",
     "status": "completed"
    },
    "tags": []
   },
   "source": [
    "------------------------------------------------------\n",
    "# EDA"
   ]
  },
  {
   "cell_type": "code",
   "execution_count": 4,
   "metadata": {
    "execution": {
     "iopub.execute_input": "2022-02-24T15:48:14.562915Z",
     "iopub.status.busy": "2022-02-24T15:48:14.562345Z",
     "iopub.status.idle": "2022-02-24T15:48:14.565802Z",
     "shell.execute_reply": "2022-02-24T15:48:14.566445Z",
     "shell.execute_reply.started": "2022-02-24T15:32:46.027048Z"
    },
    "papermill": {
     "duration": 1.058616,
     "end_time": "2022-02-24T15:48:14.566663",
     "exception": false,
     "start_time": "2022-02-24T15:48:13.508047",
     "status": "completed"
    },
    "tags": []
   },
   "outputs": [],
   "source": [
    "# CONFIGURATIONS\n",
    "DATA_DIR = Path('../../input/birdclef-2022/train_audio')"
   ]
  },
  {
   "cell_type": "code",
   "execution_count": 5,
   "metadata": {
    "execution": {
     "iopub.execute_input": "2022-02-24T15:48:16.819402Z",
     "iopub.status.busy": "2022-02-24T15:48:16.818617Z",
     "iopub.status.idle": "2022-02-24T15:48:18.208647Z",
     "shell.execute_reply": "2022-02-24T15:48:18.209216Z",
     "shell.execute_reply.started": "2022-02-24T15:32:46.032924Z"
    },
    "papermill": {
     "duration": 2.482467,
     "end_time": "2022-02-24T15:48:18.209407",
     "exception": false,
     "start_time": "2022-02-24T15:48:15.726940",
     "status": "completed"
    },
    "tags": []
   },
   "outputs": [
    {
     "name": "stdout",
     "output_type": "stream",
     "text": [
      "No. of audio files: 14852\n"
     ]
    }
   ],
   "source": [
    "audio_fns = get_audio_files(DATA_DIR)\n",
    "print(f'No. of audio files: {len(audio_fns)}')\n",
    "\n",
    "# to save time, I subset training data\n",
    "meta_df = pd.read_csv('../../input/birdclef-2022/train_metadata.csv')\n",
    "test_df = pd.read_csv('../../input/birdclef-2022/test.csv')"
   ]
  },
  {
   "cell_type": "markdown",
   "metadata": {
    "papermill": {
     "duration": 1.041263,
     "end_time": "2022-02-24T15:48:20.337339",
     "exception": false,
     "start_time": "2022-02-24T15:48:19.296076",
     "status": "completed"
    },
    "tags": []
   },
   "source": [
    "--------------------------------------------\n",
    "# Analyzing Meta Data"
   ]
  },
  {
   "cell_type": "code",
   "execution_count": 6,
   "metadata": {
    "execution": {
     "iopub.execute_input": "2022-02-24T15:48:22.554274Z",
     "iopub.status.busy": "2022-02-24T15:48:22.553662Z",
     "iopub.status.idle": "2022-02-24T15:48:22.624521Z",
     "shell.execute_reply": "2022-02-24T15:48:22.624980Z",
     "shell.execute_reply.started": "2022-02-24T15:32:46.483352Z"
    },
    "papermill": {
     "duration": 1.125442,
     "end_time": "2022-02-24T15:48:22.625160",
     "exception": false,
     "start_time": "2022-02-24T15:48:21.499718",
     "status": "completed"
    },
    "tags": []
   },
   "outputs": [
    {
     "data": {
      "text/html": [
       "<style type=\"text/css\">\n",
       "#T_5b449_row0_col0, #T_5b449_row0_col1, #T_5b449_row0_col2, #T_5b449_row0_col3, #T_5b449_row0_col4, #T_5b449_row1_col0, #T_5b449_row1_col1, #T_5b449_row1_col2, #T_5b449_row1_col3, #T_5b449_row1_col4, #T_5b449_row2_col0, #T_5b449_row2_col1, #T_5b449_row2_col2, #T_5b449_row2_col3, #T_5b449_row2_col4, #T_5b449_row3_col0, #T_5b449_row3_col1, #T_5b449_row3_col2, #T_5b449_row3_col3, #T_5b449_row3_col4, #T_5b449_row4_col0, #T_5b449_row4_col1, #T_5b449_row4_col2, #T_5b449_row4_col3, #T_5b449_row4_col4, #T_5b449_row5_col0, #T_5b449_row5_col1, #T_5b449_row5_col2, #T_5b449_row5_col3, #T_5b449_row5_col4, #T_5b449_row6_col0, #T_5b449_row6_col1, #T_5b449_row6_col2, #T_5b449_row6_col3, #T_5b449_row6_col4, #T_5b449_row7_col0, #T_5b449_row7_col1, #T_5b449_row7_col2, #T_5b449_row7_col3, #T_5b449_row7_col4, #T_5b449_row8_col0, #T_5b449_row8_col1, #T_5b449_row8_col2, #T_5b449_row8_col3, #T_5b449_row8_col4, #T_5b449_row9_col0, #T_5b449_row9_col1, #T_5b449_row9_col2, #T_5b449_row9_col3, #T_5b449_row9_col4, #T_5b449_row10_col0, #T_5b449_row10_col1, #T_5b449_row10_col2, #T_5b449_row10_col3, #T_5b449_row10_col4, #T_5b449_row11_col0, #T_5b449_row11_col1, #T_5b449_row11_col2, #T_5b449_row11_col3, #T_5b449_row11_col4, #T_5b449_row12_col0, #T_5b449_row12_col1, #T_5b449_row12_col2, #T_5b449_row12_col3, #T_5b449_row12_col4 {\n",
       "  background-color: black;\n",
       "  color: white;\n",
       "  border-color: white;\n",
       "}\n",
       "</style>\n",
       "<table id=\"T_5b449\">\n",
       "  <thead>\n",
       "    <tr>\n",
       "      <th class=\"blank level0\" >&nbsp;</th>\n",
       "      <th id=\"T_5b449_level0_col0\" class=\"col_heading level0 col0\" >0</th>\n",
       "      <th id=\"T_5b449_level0_col1\" class=\"col_heading level0 col1\" >1</th>\n",
       "      <th id=\"T_5b449_level0_col2\" class=\"col_heading level0 col2\" >2</th>\n",
       "      <th id=\"T_5b449_level0_col3\" class=\"col_heading level0 col3\" >3</th>\n",
       "      <th id=\"T_5b449_level0_col4\" class=\"col_heading level0 col4\" >4</th>\n",
       "    </tr>\n",
       "  </thead>\n",
       "  <tbody>\n",
       "    <tr>\n",
       "      <th id=\"T_5b449_level0_row0\" class=\"row_heading level0 row0\" >primary_label</th>\n",
       "      <td id=\"T_5b449_row0_col0\" class=\"data row0 col0\" >afrsil1</td>\n",
       "      <td id=\"T_5b449_row0_col1\" class=\"data row0 col1\" >afrsil1</td>\n",
       "      <td id=\"T_5b449_row0_col2\" class=\"data row0 col2\" >afrsil1</td>\n",
       "      <td id=\"T_5b449_row0_col3\" class=\"data row0 col3\" >afrsil1</td>\n",
       "      <td id=\"T_5b449_row0_col4\" class=\"data row0 col4\" >afrsil1</td>\n",
       "    </tr>\n",
       "    <tr>\n",
       "      <th id=\"T_5b449_level0_row1\" class=\"row_heading level0 row1\" >secondary_labels</th>\n",
       "      <td id=\"T_5b449_row1_col0\" class=\"data row1 col0\" >[]</td>\n",
       "      <td id=\"T_5b449_row1_col1\" class=\"data row1 col1\" >['houspa', 'redava', 'zebdov']</td>\n",
       "      <td id=\"T_5b449_row1_col2\" class=\"data row1 col2\" >[]</td>\n",
       "      <td id=\"T_5b449_row1_col3\" class=\"data row1 col3\" >[]</td>\n",
       "      <td id=\"T_5b449_row1_col4\" class=\"data row1 col4\" >[]</td>\n",
       "    </tr>\n",
       "    <tr>\n",
       "      <th id=\"T_5b449_level0_row2\" class=\"row_heading level0 row2\" >type</th>\n",
       "      <td id=\"T_5b449_row2_col0\" class=\"data row2 col0\" >['call', 'flight call']</td>\n",
       "      <td id=\"T_5b449_row2_col1\" class=\"data row2 col1\" >['call']</td>\n",
       "      <td id=\"T_5b449_row2_col2\" class=\"data row2 col2\" >['call', 'song']</td>\n",
       "      <td id=\"T_5b449_row2_col3\" class=\"data row2 col3\" >['alarm call', 'call']</td>\n",
       "      <td id=\"T_5b449_row2_col4\" class=\"data row2 col4\" >['flight call']</td>\n",
       "    </tr>\n",
       "    <tr>\n",
       "      <th id=\"T_5b449_level0_row3\" class=\"row_heading level0 row3\" >latitude</th>\n",
       "      <td id=\"T_5b449_row3_col0\" class=\"data row3 col0\" >12.391000</td>\n",
       "      <td id=\"T_5b449_row3_col1\" class=\"data row3 col1\" >19.880100</td>\n",
       "      <td id=\"T_5b449_row3_col2\" class=\"data row3 col2\" >16.290100</td>\n",
       "      <td id=\"T_5b449_row3_col3\" class=\"data row3 col3\" >17.092200</td>\n",
       "      <td id=\"T_5b449_row3_col4\" class=\"data row3 col4\" >21.458100</td>\n",
       "    </tr>\n",
       "    <tr>\n",
       "      <th id=\"T_5b449_level0_row4\" class=\"row_heading level0 row4\" >longitude</th>\n",
       "      <td id=\"T_5b449_row4_col0\" class=\"data row4 col0\" >-1.493000</td>\n",
       "      <td id=\"T_5b449_row4_col1\" class=\"data row4 col1\" >-155.725400</td>\n",
       "      <td id=\"T_5b449_row4_col2\" class=\"data row4 col2\" >-16.032100</td>\n",
       "      <td id=\"T_5b449_row4_col3\" class=\"data row4 col3\" >54.295800</td>\n",
       "      <td id=\"T_5b449_row4_col4\" class=\"data row4 col4\" >-157.725200</td>\n",
       "    </tr>\n",
       "    <tr>\n",
       "      <th id=\"T_5b449_level0_row5\" class=\"row_heading level0 row5\" >scientific_name</th>\n",
       "      <td id=\"T_5b449_row5_col0\" class=\"data row5 col0\" >Euodice cantans</td>\n",
       "      <td id=\"T_5b449_row5_col1\" class=\"data row5 col1\" >Euodice cantans</td>\n",
       "      <td id=\"T_5b449_row5_col2\" class=\"data row5 col2\" >Euodice cantans</td>\n",
       "      <td id=\"T_5b449_row5_col3\" class=\"data row5 col3\" >Euodice cantans</td>\n",
       "      <td id=\"T_5b449_row5_col4\" class=\"data row5 col4\" >Euodice cantans</td>\n",
       "    </tr>\n",
       "    <tr>\n",
       "      <th id=\"T_5b449_level0_row6\" class=\"row_heading level0 row6\" >common_name</th>\n",
       "      <td id=\"T_5b449_row6_col0\" class=\"data row6 col0\" >African Silverbill</td>\n",
       "      <td id=\"T_5b449_row6_col1\" class=\"data row6 col1\" >African Silverbill</td>\n",
       "      <td id=\"T_5b449_row6_col2\" class=\"data row6 col2\" >African Silverbill</td>\n",
       "      <td id=\"T_5b449_row6_col3\" class=\"data row6 col3\" >African Silverbill</td>\n",
       "      <td id=\"T_5b449_row6_col4\" class=\"data row6 col4\" >African Silverbill</td>\n",
       "    </tr>\n",
       "    <tr>\n",
       "      <th id=\"T_5b449_level0_row7\" class=\"row_heading level0 row7\" >author</th>\n",
       "      <td id=\"T_5b449_row7_col0\" class=\"data row7 col0\" >Bram Piot</td>\n",
       "      <td id=\"T_5b449_row7_col1\" class=\"data row7 col1\" >Dan Lane</td>\n",
       "      <td id=\"T_5b449_row7_col2\" class=\"data row7 col2\" >Bram Piot</td>\n",
       "      <td id=\"T_5b449_row7_col3\" class=\"data row7 col3\" >Oscar Campbell</td>\n",
       "      <td id=\"T_5b449_row7_col4\" class=\"data row7 col4\" >Ross Gallardy</td>\n",
       "    </tr>\n",
       "    <tr>\n",
       "      <th id=\"T_5b449_level0_row8\" class=\"row_heading level0 row8\" >license</th>\n",
       "      <td id=\"T_5b449_row8_col0\" class=\"data row8 col0\" >Creative Commons Attribution-NonCommercial-ShareAlike 3.0</td>\n",
       "      <td id=\"T_5b449_row8_col1\" class=\"data row8 col1\" >Creative Commons Attribution-NonCommercial-ShareAlike 4.0</td>\n",
       "      <td id=\"T_5b449_row8_col2\" class=\"data row8 col2\" >Creative Commons Attribution-NonCommercial-ShareAlike 4.0</td>\n",
       "      <td id=\"T_5b449_row8_col3\" class=\"data row8 col3\" >Creative Commons Attribution-NonCommercial-ShareAlike 4.0</td>\n",
       "      <td id=\"T_5b449_row8_col4\" class=\"data row8 col4\" >Creative Commons Attribution-NonCommercial-ShareAlike 4.0</td>\n",
       "    </tr>\n",
       "    <tr>\n",
       "      <th id=\"T_5b449_level0_row9\" class=\"row_heading level0 row9\" >rating</th>\n",
       "      <td id=\"T_5b449_row9_col0\" class=\"data row9 col0\" >2.500000</td>\n",
       "      <td id=\"T_5b449_row9_col1\" class=\"data row9 col1\" >3.500000</td>\n",
       "      <td id=\"T_5b449_row9_col2\" class=\"data row9 col2\" >4.000000</td>\n",
       "      <td id=\"T_5b449_row9_col3\" class=\"data row9 col3\" >4.000000</td>\n",
       "      <td id=\"T_5b449_row9_col4\" class=\"data row9 col4\" >3.000000</td>\n",
       "    </tr>\n",
       "    <tr>\n",
       "      <th id=\"T_5b449_level0_row10\" class=\"row_heading level0 row10\" >time</th>\n",
       "      <td id=\"T_5b449_row10_col0\" class=\"data row10 col0\" >08:00</td>\n",
       "      <td id=\"T_5b449_row10_col1\" class=\"data row10 col1\" >08:30</td>\n",
       "      <td id=\"T_5b449_row10_col2\" class=\"data row10 col2\" >11:30</td>\n",
       "      <td id=\"T_5b449_row10_col3\" class=\"data row10 col3\" >11:00</td>\n",
       "      <td id=\"T_5b449_row10_col4\" class=\"data row10 col4\" >16:30</td>\n",
       "    </tr>\n",
       "    <tr>\n",
       "      <th id=\"T_5b449_level0_row11\" class=\"row_heading level0 row11\" >url</th>\n",
       "      <td id=\"T_5b449_row11_col0\" class=\"data row11 col0\" >https://www.xeno-canto.org/125458</td>\n",
       "      <td id=\"T_5b449_row11_col1\" class=\"data row11 col1\" >https://www.xeno-canto.org/175522</td>\n",
       "      <td id=\"T_5b449_row11_col2\" class=\"data row11 col2\" >https://www.xeno-canto.org/177993</td>\n",
       "      <td id=\"T_5b449_row11_col3\" class=\"data row11 col3\" >https://www.xeno-canto.org/205893</td>\n",
       "      <td id=\"T_5b449_row11_col4\" class=\"data row11 col4\" >https://www.xeno-canto.org/207431</td>\n",
       "    </tr>\n",
       "    <tr>\n",
       "      <th id=\"T_5b449_level0_row12\" class=\"row_heading level0 row12\" >filename</th>\n",
       "      <td id=\"T_5b449_row12_col0\" class=\"data row12 col0\" >afrsil1/XC125458.ogg</td>\n",
       "      <td id=\"T_5b449_row12_col1\" class=\"data row12 col1\" >afrsil1/XC175522.ogg</td>\n",
       "      <td id=\"T_5b449_row12_col2\" class=\"data row12 col2\" >afrsil1/XC177993.ogg</td>\n",
       "      <td id=\"T_5b449_row12_col3\" class=\"data row12 col3\" >afrsil1/XC205893.ogg</td>\n",
       "      <td id=\"T_5b449_row12_col4\" class=\"data row12 col4\" >afrsil1/XC207431.ogg</td>\n",
       "    </tr>\n",
       "  </tbody>\n",
       "</table>\n"
      ],
      "text/plain": [
       "<pandas.io.formats.style.Styler at 0x7f344cc6efd0>"
      ]
     },
     "execution_count": 6,
     "metadata": {},
     "output_type": "execute_result"
    }
   ],
   "source": [
    "meta_df.head().T.style.set_properties(**{'background-color': 'black',\n",
    "                           'color': 'white',\n",
    "                           'border-color': 'white'})"
   ]
  },
  {
   "cell_type": "code",
   "execution_count": 7,
   "metadata": {
    "execution": {
     "iopub.execute_input": "2022-02-24T15:48:28.970055Z",
     "iopub.status.busy": "2022-02-24T15:48:28.969112Z",
     "iopub.status.idle": "2022-02-24T15:48:28.983418Z",
     "shell.execute_reply": "2022-02-24T15:48:28.983967Z",
     "shell.execute_reply.started": "2022-02-24T15:32:46.596577Z"
    },
    "papermill": {
     "duration": 1.137974,
     "end_time": "2022-02-24T15:48:28.984130",
     "exception": false,
     "start_time": "2022-02-24T15:48:27.846156",
     "status": "completed"
    },
    "tags": []
   },
   "outputs": [],
   "source": [
    "train_df = meta_df.drop(['url','filename','scientific_name','license','time','common_name','secondary_labels']\n",
    "                        ,axis=1\n",
    "                        ,errors='ignore')\n",
    "train_df = train_df.sample(1000)"
   ]
  },
  {
   "cell_type": "code",
   "execution_count": 8,
   "metadata": {
    "execution": {
     "iopub.execute_input": "2022-02-24T15:48:31.060440Z",
     "iopub.status.busy": "2022-02-24T15:48:31.059505Z",
     "iopub.status.idle": "2022-02-24T15:48:31.066206Z",
     "shell.execute_reply": "2022-02-24T15:48:31.066746Z",
     "shell.execute_reply.started": "2022-02-24T15:32:46.615647Z"
    },
    "papermill": {
     "duration": 1.049629,
     "end_time": "2022-02-24T15:48:31.066916",
     "exception": false,
     "start_time": "2022-02-24T15:48:30.017287",
     "status": "completed"
    },
    "tags": []
   },
   "outputs": [],
   "source": [
    "enc_list = ['primary_label','author','type']\n",
    "for feature in enc_list:\n",
    "    le = LabelEncoder()\n",
    "    le = le.fit(train_df[feature])\n",
    "    train_df[feature] = le.transform(train_df[feature])"
   ]
  },
  {
   "cell_type": "markdown",
   "metadata": {
    "papermill": {
     "duration": 1.057564,
     "end_time": "2022-02-24T15:48:33.158709",
     "exception": false,
     "start_time": "2022-02-24T15:48:32.101145",
     "status": "completed"
    },
    "tags": []
   },
   "source": [
    "------------------------------------------------------------------------\n",
    "# Understaning Metadata from the simple model"
   ]
  },
  {
   "cell_type": "code",
   "execution_count": 9,
   "metadata": {
    "execution": {
     "iopub.execute_input": "2022-02-24T15:48:35.291503Z",
     "iopub.status.busy": "2022-02-24T15:48:35.290464Z",
     "iopub.status.idle": "2022-02-24T15:48:35.562387Z",
     "shell.execute_reply": "2022-02-24T15:48:35.561826Z",
     "shell.execute_reply.started": "2022-02-24T15:32:46.626074Z"
    },
    "papermill": {
     "duration": 1.339953,
     "end_time": "2022-02-24T15:48:35.562561",
     "exception": false,
     "start_time": "2022-02-24T15:48:34.222608",
     "status": "completed"
    },
    "tags": []
   },
   "outputs": [],
   "source": [
    "from pycaret.classification import *"
   ]
  },
  {
   "cell_type": "code",
   "execution_count": 10,
   "metadata": {
    "_kg_hide-output": true,
    "execution": {
     "iopub.execute_input": "2022-02-24T15:48:37.671770Z",
     "iopub.status.busy": "2022-02-24T15:48:37.670802Z",
     "iopub.status.idle": "2022-02-24T15:48:38.779008Z",
     "shell.execute_reply": "2022-02-24T15:48:38.779471Z",
     "shell.execute_reply.started": "2022-02-24T15:32:46.897488Z"
    },
    "papermill": {
     "duration": 2.15732,
     "end_time": "2022-02-24T15:48:38.779652",
     "exception": false,
     "start_time": "2022-02-24T15:48:36.622332",
     "status": "completed"
    },
    "tags": []
   },
   "outputs": [
    {
     "data": {
      "text/html": [
       "<style type=\"text/css\">\n",
       "#T_c4d3e_row44_col1 {\n",
       "  background-color: lightgreen;\n",
       "}\n",
       "</style>\n",
       "<table id=\"T_c4d3e\">\n",
       "  <thead>\n",
       "    <tr>\n",
       "      <th class=\"blank level0\" >&nbsp;</th>\n",
       "      <th id=\"T_c4d3e_level0_col0\" class=\"col_heading level0 col0\" >Description</th>\n",
       "      <th id=\"T_c4d3e_level0_col1\" class=\"col_heading level0 col1\" >Value</th>\n",
       "    </tr>\n",
       "  </thead>\n",
       "  <tbody>\n",
       "    <tr>\n",
       "      <th id=\"T_c4d3e_level0_row0\" class=\"row_heading level0 row0\" >0</th>\n",
       "      <td id=\"T_c4d3e_row0_col0\" class=\"data row0 col0\" >session_id</td>\n",
       "      <td id=\"T_c4d3e_row0_col1\" class=\"data row0 col1\" >6077</td>\n",
       "    </tr>\n",
       "    <tr>\n",
       "      <th id=\"T_c4d3e_level0_row1\" class=\"row_heading level0 row1\" >1</th>\n",
       "      <td id=\"T_c4d3e_row1_col0\" class=\"data row1 col0\" >Target</td>\n",
       "      <td id=\"T_c4d3e_row1_col1\" class=\"data row1 col1\" >primary_label</td>\n",
       "    </tr>\n",
       "    <tr>\n",
       "      <th id=\"T_c4d3e_level0_row2\" class=\"row_heading level0 row2\" >2</th>\n",
       "      <td id=\"T_c4d3e_row2_col0\" class=\"data row2 col0\" >Target Type</td>\n",
       "      <td id=\"T_c4d3e_row2_col1\" class=\"data row2 col1\" >Multiclass</td>\n",
       "    </tr>\n",
       "    <tr>\n",
       "      <th id=\"T_c4d3e_level0_row3\" class=\"row_heading level0 row3\" >3</th>\n",
       "      <td id=\"T_c4d3e_row3_col0\" class=\"data row3 col0\" >Label Encoded</td>\n",
       "      <td id=\"T_c4d3e_row3_col1\" class=\"data row3 col1\" >None</td>\n",
       "    </tr>\n",
       "    <tr>\n",
       "      <th id=\"T_c4d3e_level0_row4\" class=\"row_heading level0 row4\" >4</th>\n",
       "      <td id=\"T_c4d3e_row4_col0\" class=\"data row4 col0\" >Original Data</td>\n",
       "      <td id=\"T_c4d3e_row4_col1\" class=\"data row4 col1\" >(1000, 6)</td>\n",
       "    </tr>\n",
       "    <tr>\n",
       "      <th id=\"T_c4d3e_level0_row5\" class=\"row_heading level0 row5\" >5</th>\n",
       "      <td id=\"T_c4d3e_row5_col0\" class=\"data row5 col0\" >Missing Values</td>\n",
       "      <td id=\"T_c4d3e_row5_col1\" class=\"data row5 col1\" >0</td>\n",
       "    </tr>\n",
       "    <tr>\n",
       "      <th id=\"T_c4d3e_level0_row6\" class=\"row_heading level0 row6\" >6</th>\n",
       "      <td id=\"T_c4d3e_row6_col0\" class=\"data row6 col0\" >Numeric Features</td>\n",
       "      <td id=\"T_c4d3e_row6_col1\" class=\"data row6 col1\" >5</td>\n",
       "    </tr>\n",
       "    <tr>\n",
       "      <th id=\"T_c4d3e_level0_row7\" class=\"row_heading level0 row7\" >7</th>\n",
       "      <td id=\"T_c4d3e_row7_col0\" class=\"data row7 col0\" >Categorical Features</td>\n",
       "      <td id=\"T_c4d3e_row7_col1\" class=\"data row7 col1\" >0</td>\n",
       "    </tr>\n",
       "    <tr>\n",
       "      <th id=\"T_c4d3e_level0_row8\" class=\"row_heading level0 row8\" >8</th>\n",
       "      <td id=\"T_c4d3e_row8_col0\" class=\"data row8 col0\" >Ordinal Features</td>\n",
       "      <td id=\"T_c4d3e_row8_col1\" class=\"data row8 col1\" >0</td>\n",
       "    </tr>\n",
       "    <tr>\n",
       "      <th id=\"T_c4d3e_level0_row9\" class=\"row_heading level0 row9\" >9</th>\n",
       "      <td id=\"T_c4d3e_row9_col0\" class=\"data row9 col0\" >High Cardinality Features</td>\n",
       "      <td id=\"T_c4d3e_row9_col1\" class=\"data row9 col1\" >0</td>\n",
       "    </tr>\n",
       "    <tr>\n",
       "      <th id=\"T_c4d3e_level0_row10\" class=\"row_heading level0 row10\" >10</th>\n",
       "      <td id=\"T_c4d3e_row10_col0\" class=\"data row10 col0\" >High Cardinality Method</td>\n",
       "      <td id=\"T_c4d3e_row10_col1\" class=\"data row10 col1\" >None</td>\n",
       "    </tr>\n",
       "    <tr>\n",
       "      <th id=\"T_c4d3e_level0_row11\" class=\"row_heading level0 row11\" >11</th>\n",
       "      <td id=\"T_c4d3e_row11_col0\" class=\"data row11 col0\" >Transformed Train Set</td>\n",
       "      <td id=\"T_c4d3e_row11_col1\" class=\"data row11 col1\" >(699, 5)</td>\n",
       "    </tr>\n",
       "    <tr>\n",
       "      <th id=\"T_c4d3e_level0_row12\" class=\"row_heading level0 row12\" >12</th>\n",
       "      <td id=\"T_c4d3e_row12_col0\" class=\"data row12 col0\" >Transformed Test Set</td>\n",
       "      <td id=\"T_c4d3e_row12_col1\" class=\"data row12 col1\" >(301, 5)</td>\n",
       "    </tr>\n",
       "    <tr>\n",
       "      <th id=\"T_c4d3e_level0_row13\" class=\"row_heading level0 row13\" >13</th>\n",
       "      <td id=\"T_c4d3e_row13_col0\" class=\"data row13 col0\" >Shuffle Train-Test</td>\n",
       "      <td id=\"T_c4d3e_row13_col1\" class=\"data row13 col1\" >True</td>\n",
       "    </tr>\n",
       "    <tr>\n",
       "      <th id=\"T_c4d3e_level0_row14\" class=\"row_heading level0 row14\" >14</th>\n",
       "      <td id=\"T_c4d3e_row14_col0\" class=\"data row14 col0\" >Stratify Train-Test</td>\n",
       "      <td id=\"T_c4d3e_row14_col1\" class=\"data row14 col1\" >False</td>\n",
       "    </tr>\n",
       "    <tr>\n",
       "      <th id=\"T_c4d3e_level0_row15\" class=\"row_heading level0 row15\" >15</th>\n",
       "      <td id=\"T_c4d3e_row15_col0\" class=\"data row15 col0\" >Fold Generator</td>\n",
       "      <td id=\"T_c4d3e_row15_col1\" class=\"data row15 col1\" >StratifiedKFold</td>\n",
       "    </tr>\n",
       "    <tr>\n",
       "      <th id=\"T_c4d3e_level0_row16\" class=\"row_heading level0 row16\" >16</th>\n",
       "      <td id=\"T_c4d3e_row16_col0\" class=\"data row16 col0\" >Fold Number</td>\n",
       "      <td id=\"T_c4d3e_row16_col1\" class=\"data row16 col1\" >10</td>\n",
       "    </tr>\n",
       "    <tr>\n",
       "      <th id=\"T_c4d3e_level0_row17\" class=\"row_heading level0 row17\" >17</th>\n",
       "      <td id=\"T_c4d3e_row17_col0\" class=\"data row17 col0\" >CPU Jobs</td>\n",
       "      <td id=\"T_c4d3e_row17_col1\" class=\"data row17 col1\" >-1</td>\n",
       "    </tr>\n",
       "    <tr>\n",
       "      <th id=\"T_c4d3e_level0_row18\" class=\"row_heading level0 row18\" >18</th>\n",
       "      <td id=\"T_c4d3e_row18_col0\" class=\"data row18 col0\" >Use GPU</td>\n",
       "      <td id=\"T_c4d3e_row18_col1\" class=\"data row18 col1\" >0</td>\n",
       "    </tr>\n",
       "    <tr>\n",
       "      <th id=\"T_c4d3e_level0_row19\" class=\"row_heading level0 row19\" >19</th>\n",
       "      <td id=\"T_c4d3e_row19_col0\" class=\"data row19 col0\" >Log Experiment</td>\n",
       "      <td id=\"T_c4d3e_row19_col1\" class=\"data row19 col1\" >0</td>\n",
       "    </tr>\n",
       "    <tr>\n",
       "      <th id=\"T_c4d3e_level0_row20\" class=\"row_heading level0 row20\" >20</th>\n",
       "      <td id=\"T_c4d3e_row20_col0\" class=\"data row20 col0\" >Experiment Name</td>\n",
       "      <td id=\"T_c4d3e_row20_col1\" class=\"data row20 col1\" >clf-default-name</td>\n",
       "    </tr>\n",
       "    <tr>\n",
       "      <th id=\"T_c4d3e_level0_row21\" class=\"row_heading level0 row21\" >21</th>\n",
       "      <td id=\"T_c4d3e_row21_col0\" class=\"data row21 col0\" >USI</td>\n",
       "      <td id=\"T_c4d3e_row21_col1\" class=\"data row21 col1\" >2140</td>\n",
       "    </tr>\n",
       "    <tr>\n",
       "      <th id=\"T_c4d3e_level0_row22\" class=\"row_heading level0 row22\" >22</th>\n",
       "      <td id=\"T_c4d3e_row22_col0\" class=\"data row22 col0\" >Imputation Type</td>\n",
       "      <td id=\"T_c4d3e_row22_col1\" class=\"data row22 col1\" >simple</td>\n",
       "    </tr>\n",
       "    <tr>\n",
       "      <th id=\"T_c4d3e_level0_row23\" class=\"row_heading level0 row23\" >23</th>\n",
       "      <td id=\"T_c4d3e_row23_col0\" class=\"data row23 col0\" >Iterative Imputation Iteration</td>\n",
       "      <td id=\"T_c4d3e_row23_col1\" class=\"data row23 col1\" >None</td>\n",
       "    </tr>\n",
       "    <tr>\n",
       "      <th id=\"T_c4d3e_level0_row24\" class=\"row_heading level0 row24\" >24</th>\n",
       "      <td id=\"T_c4d3e_row24_col0\" class=\"data row24 col0\" >Numeric Imputer</td>\n",
       "      <td id=\"T_c4d3e_row24_col1\" class=\"data row24 col1\" >mean</td>\n",
       "    </tr>\n",
       "    <tr>\n",
       "      <th id=\"T_c4d3e_level0_row25\" class=\"row_heading level0 row25\" >25</th>\n",
       "      <td id=\"T_c4d3e_row25_col0\" class=\"data row25 col0\" >Iterative Imputation Numeric Model</td>\n",
       "      <td id=\"T_c4d3e_row25_col1\" class=\"data row25 col1\" >None</td>\n",
       "    </tr>\n",
       "    <tr>\n",
       "      <th id=\"T_c4d3e_level0_row26\" class=\"row_heading level0 row26\" >26</th>\n",
       "      <td id=\"T_c4d3e_row26_col0\" class=\"data row26 col0\" >Categorical Imputer</td>\n",
       "      <td id=\"T_c4d3e_row26_col1\" class=\"data row26 col1\" >constant</td>\n",
       "    </tr>\n",
       "    <tr>\n",
       "      <th id=\"T_c4d3e_level0_row27\" class=\"row_heading level0 row27\" >27</th>\n",
       "      <td id=\"T_c4d3e_row27_col0\" class=\"data row27 col0\" >Iterative Imputation Categorical Model</td>\n",
       "      <td id=\"T_c4d3e_row27_col1\" class=\"data row27 col1\" >None</td>\n",
       "    </tr>\n",
       "    <tr>\n",
       "      <th id=\"T_c4d3e_level0_row28\" class=\"row_heading level0 row28\" >28</th>\n",
       "      <td id=\"T_c4d3e_row28_col0\" class=\"data row28 col0\" >Unknown Categoricals Handling</td>\n",
       "      <td id=\"T_c4d3e_row28_col1\" class=\"data row28 col1\" >least_frequent</td>\n",
       "    </tr>\n",
       "    <tr>\n",
       "      <th id=\"T_c4d3e_level0_row29\" class=\"row_heading level0 row29\" >29</th>\n",
       "      <td id=\"T_c4d3e_row29_col0\" class=\"data row29 col0\" >Normalize</td>\n",
       "      <td id=\"T_c4d3e_row29_col1\" class=\"data row29 col1\" >0</td>\n",
       "    </tr>\n",
       "    <tr>\n",
       "      <th id=\"T_c4d3e_level0_row30\" class=\"row_heading level0 row30\" >30</th>\n",
       "      <td id=\"T_c4d3e_row30_col0\" class=\"data row30 col0\" >Normalize Method</td>\n",
       "      <td id=\"T_c4d3e_row30_col1\" class=\"data row30 col1\" >None</td>\n",
       "    </tr>\n",
       "    <tr>\n",
       "      <th id=\"T_c4d3e_level0_row31\" class=\"row_heading level0 row31\" >31</th>\n",
       "      <td id=\"T_c4d3e_row31_col0\" class=\"data row31 col0\" >Transformation</td>\n",
       "      <td id=\"T_c4d3e_row31_col1\" class=\"data row31 col1\" >0</td>\n",
       "    </tr>\n",
       "    <tr>\n",
       "      <th id=\"T_c4d3e_level0_row32\" class=\"row_heading level0 row32\" >32</th>\n",
       "      <td id=\"T_c4d3e_row32_col0\" class=\"data row32 col0\" >Transformation Method</td>\n",
       "      <td id=\"T_c4d3e_row32_col1\" class=\"data row32 col1\" >None</td>\n",
       "    </tr>\n",
       "    <tr>\n",
       "      <th id=\"T_c4d3e_level0_row33\" class=\"row_heading level0 row33\" >33</th>\n",
       "      <td id=\"T_c4d3e_row33_col0\" class=\"data row33 col0\" >PCA</td>\n",
       "      <td id=\"T_c4d3e_row33_col1\" class=\"data row33 col1\" >0</td>\n",
       "    </tr>\n",
       "    <tr>\n",
       "      <th id=\"T_c4d3e_level0_row34\" class=\"row_heading level0 row34\" >34</th>\n",
       "      <td id=\"T_c4d3e_row34_col0\" class=\"data row34 col0\" >PCA Method</td>\n",
       "      <td id=\"T_c4d3e_row34_col1\" class=\"data row34 col1\" >None</td>\n",
       "    </tr>\n",
       "    <tr>\n",
       "      <th id=\"T_c4d3e_level0_row35\" class=\"row_heading level0 row35\" >35</th>\n",
       "      <td id=\"T_c4d3e_row35_col0\" class=\"data row35 col0\" >PCA Components</td>\n",
       "      <td id=\"T_c4d3e_row35_col1\" class=\"data row35 col1\" >None</td>\n",
       "    </tr>\n",
       "    <tr>\n",
       "      <th id=\"T_c4d3e_level0_row36\" class=\"row_heading level0 row36\" >36</th>\n",
       "      <td id=\"T_c4d3e_row36_col0\" class=\"data row36 col0\" >Ignore Low Variance</td>\n",
       "      <td id=\"T_c4d3e_row36_col1\" class=\"data row36 col1\" >0</td>\n",
       "    </tr>\n",
       "    <tr>\n",
       "      <th id=\"T_c4d3e_level0_row37\" class=\"row_heading level0 row37\" >37</th>\n",
       "      <td id=\"T_c4d3e_row37_col0\" class=\"data row37 col0\" >Combine Rare Levels</td>\n",
       "      <td id=\"T_c4d3e_row37_col1\" class=\"data row37 col1\" >0</td>\n",
       "    </tr>\n",
       "    <tr>\n",
       "      <th id=\"T_c4d3e_level0_row38\" class=\"row_heading level0 row38\" >38</th>\n",
       "      <td id=\"T_c4d3e_row38_col0\" class=\"data row38 col0\" >Rare Level Threshold</td>\n",
       "      <td id=\"T_c4d3e_row38_col1\" class=\"data row38 col1\" >None</td>\n",
       "    </tr>\n",
       "    <tr>\n",
       "      <th id=\"T_c4d3e_level0_row39\" class=\"row_heading level0 row39\" >39</th>\n",
       "      <td id=\"T_c4d3e_row39_col0\" class=\"data row39 col0\" >Numeric Binning</td>\n",
       "      <td id=\"T_c4d3e_row39_col1\" class=\"data row39 col1\" >0</td>\n",
       "    </tr>\n",
       "    <tr>\n",
       "      <th id=\"T_c4d3e_level0_row40\" class=\"row_heading level0 row40\" >40</th>\n",
       "      <td id=\"T_c4d3e_row40_col0\" class=\"data row40 col0\" >Remove Outliers</td>\n",
       "      <td id=\"T_c4d3e_row40_col1\" class=\"data row40 col1\" >0</td>\n",
       "    </tr>\n",
       "    <tr>\n",
       "      <th id=\"T_c4d3e_level0_row41\" class=\"row_heading level0 row41\" >41</th>\n",
       "      <td id=\"T_c4d3e_row41_col0\" class=\"data row41 col0\" >Outliers Threshold</td>\n",
       "      <td id=\"T_c4d3e_row41_col1\" class=\"data row41 col1\" >None</td>\n",
       "    </tr>\n",
       "    <tr>\n",
       "      <th id=\"T_c4d3e_level0_row42\" class=\"row_heading level0 row42\" >42</th>\n",
       "      <td id=\"T_c4d3e_row42_col0\" class=\"data row42 col0\" >Remove Multicollinearity</td>\n",
       "      <td id=\"T_c4d3e_row42_col1\" class=\"data row42 col1\" >0</td>\n",
       "    </tr>\n",
       "    <tr>\n",
       "      <th id=\"T_c4d3e_level0_row43\" class=\"row_heading level0 row43\" >43</th>\n",
       "      <td id=\"T_c4d3e_row43_col0\" class=\"data row43 col0\" >Multicollinearity Threshold</td>\n",
       "      <td id=\"T_c4d3e_row43_col1\" class=\"data row43 col1\" >None</td>\n",
       "    </tr>\n",
       "    <tr>\n",
       "      <th id=\"T_c4d3e_level0_row44\" class=\"row_heading level0 row44\" >44</th>\n",
       "      <td id=\"T_c4d3e_row44_col0\" class=\"data row44 col0\" >Remove Perfect Collinearity</td>\n",
       "      <td id=\"T_c4d3e_row44_col1\" class=\"data row44 col1\" >1</td>\n",
       "    </tr>\n",
       "    <tr>\n",
       "      <th id=\"T_c4d3e_level0_row45\" class=\"row_heading level0 row45\" >45</th>\n",
       "      <td id=\"T_c4d3e_row45_col0\" class=\"data row45 col0\" >Clustering</td>\n",
       "      <td id=\"T_c4d3e_row45_col1\" class=\"data row45 col1\" >0</td>\n",
       "    </tr>\n",
       "    <tr>\n",
       "      <th id=\"T_c4d3e_level0_row46\" class=\"row_heading level0 row46\" >46</th>\n",
       "      <td id=\"T_c4d3e_row46_col0\" class=\"data row46 col0\" >Clustering Iteration</td>\n",
       "      <td id=\"T_c4d3e_row46_col1\" class=\"data row46 col1\" >None</td>\n",
       "    </tr>\n",
       "    <tr>\n",
       "      <th id=\"T_c4d3e_level0_row47\" class=\"row_heading level0 row47\" >47</th>\n",
       "      <td id=\"T_c4d3e_row47_col0\" class=\"data row47 col0\" >Polynomial Features</td>\n",
       "      <td id=\"T_c4d3e_row47_col1\" class=\"data row47 col1\" >0</td>\n",
       "    </tr>\n",
       "    <tr>\n",
       "      <th id=\"T_c4d3e_level0_row48\" class=\"row_heading level0 row48\" >48</th>\n",
       "      <td id=\"T_c4d3e_row48_col0\" class=\"data row48 col0\" >Polynomial Degree</td>\n",
       "      <td id=\"T_c4d3e_row48_col1\" class=\"data row48 col1\" >None</td>\n",
       "    </tr>\n",
       "    <tr>\n",
       "      <th id=\"T_c4d3e_level0_row49\" class=\"row_heading level0 row49\" >49</th>\n",
       "      <td id=\"T_c4d3e_row49_col0\" class=\"data row49 col0\" >Trignometry Features</td>\n",
       "      <td id=\"T_c4d3e_row49_col1\" class=\"data row49 col1\" >0</td>\n",
       "    </tr>\n",
       "    <tr>\n",
       "      <th id=\"T_c4d3e_level0_row50\" class=\"row_heading level0 row50\" >50</th>\n",
       "      <td id=\"T_c4d3e_row50_col0\" class=\"data row50 col0\" >Polynomial Threshold</td>\n",
       "      <td id=\"T_c4d3e_row50_col1\" class=\"data row50 col1\" >None</td>\n",
       "    </tr>\n",
       "    <tr>\n",
       "      <th id=\"T_c4d3e_level0_row51\" class=\"row_heading level0 row51\" >51</th>\n",
       "      <td id=\"T_c4d3e_row51_col0\" class=\"data row51 col0\" >Group Features</td>\n",
       "      <td id=\"T_c4d3e_row51_col1\" class=\"data row51 col1\" >0</td>\n",
       "    </tr>\n",
       "    <tr>\n",
       "      <th id=\"T_c4d3e_level0_row52\" class=\"row_heading level0 row52\" >52</th>\n",
       "      <td id=\"T_c4d3e_row52_col0\" class=\"data row52 col0\" >Feature Selection</td>\n",
       "      <td id=\"T_c4d3e_row52_col1\" class=\"data row52 col1\" >0</td>\n",
       "    </tr>\n",
       "    <tr>\n",
       "      <th id=\"T_c4d3e_level0_row53\" class=\"row_heading level0 row53\" >53</th>\n",
       "      <td id=\"T_c4d3e_row53_col0\" class=\"data row53 col0\" >Feature Selection Method</td>\n",
       "      <td id=\"T_c4d3e_row53_col1\" class=\"data row53 col1\" >classic</td>\n",
       "    </tr>\n",
       "    <tr>\n",
       "      <th id=\"T_c4d3e_level0_row54\" class=\"row_heading level0 row54\" >54</th>\n",
       "      <td id=\"T_c4d3e_row54_col0\" class=\"data row54 col0\" >Features Selection Threshold</td>\n",
       "      <td id=\"T_c4d3e_row54_col1\" class=\"data row54 col1\" >None</td>\n",
       "    </tr>\n",
       "    <tr>\n",
       "      <th id=\"T_c4d3e_level0_row55\" class=\"row_heading level0 row55\" >55</th>\n",
       "      <td id=\"T_c4d3e_row55_col0\" class=\"data row55 col0\" >Feature Interaction</td>\n",
       "      <td id=\"T_c4d3e_row55_col1\" class=\"data row55 col1\" >0</td>\n",
       "    </tr>\n",
       "    <tr>\n",
       "      <th id=\"T_c4d3e_level0_row56\" class=\"row_heading level0 row56\" >56</th>\n",
       "      <td id=\"T_c4d3e_row56_col0\" class=\"data row56 col0\" >Feature Ratio</td>\n",
       "      <td id=\"T_c4d3e_row56_col1\" class=\"data row56 col1\" >0</td>\n",
       "    </tr>\n",
       "    <tr>\n",
       "      <th id=\"T_c4d3e_level0_row57\" class=\"row_heading level0 row57\" >57</th>\n",
       "      <td id=\"T_c4d3e_row57_col0\" class=\"data row57 col0\" >Interaction Threshold</td>\n",
       "      <td id=\"T_c4d3e_row57_col1\" class=\"data row57 col1\" >None</td>\n",
       "    </tr>\n",
       "    <tr>\n",
       "      <th id=\"T_c4d3e_level0_row58\" class=\"row_heading level0 row58\" >58</th>\n",
       "      <td id=\"T_c4d3e_row58_col0\" class=\"data row58 col0\" >Fix Imbalance</td>\n",
       "      <td id=\"T_c4d3e_row58_col1\" class=\"data row58 col1\" >0</td>\n",
       "    </tr>\n",
       "    <tr>\n",
       "      <th id=\"T_c4d3e_level0_row59\" class=\"row_heading level0 row59\" >59</th>\n",
       "      <td id=\"T_c4d3e_row59_col0\" class=\"data row59 col0\" >Fix Imbalance Method</td>\n",
       "      <td id=\"T_c4d3e_row59_col1\" class=\"data row59 col1\" >SMOTE</td>\n",
       "    </tr>\n",
       "  </tbody>\n",
       "</table>\n"
      ],
      "text/plain": [
       "<pandas.io.formats.style.Styler at 0x7f343fe8aa00>"
      ]
     },
     "metadata": {},
     "output_type": "display_data"
    },
    {
     "data": {
      "text/plain": [
       "([],\n",
       " {'acc': <pycaret.containers.metrics.classification.AccuracyMetricContainer at 0x7f343fe8a1f0>,\n",
       "  'auc': <pycaret.containers.metrics.classification.ROCAUCMetricContainer at 0x7f343fe8a220>,\n",
       "  'recall': <pycaret.containers.metrics.classification.RecallMetricContainer at 0x7f343fe8a2b0>,\n",
       "  'precision': <pycaret.containers.metrics.classification.PrecisionMetricContainer at 0x7f343fe8a400>,\n",
       "  'f1': <pycaret.containers.metrics.classification.F1MetricContainer at 0x7f343fe8a550>,\n",
       "  'kappa': <pycaret.containers.metrics.classification.KappaMetricContainer at 0x7f343fe8a6a0>,\n",
       "  'mcc': <pycaret.containers.metrics.classification.MCCMetricContainer at 0x7f343fe8a730>},\n",
       " Pipeline(memory=None, steps=[('empty_step', 'passthrough')], verbose=False),\n",
       " 9754      68\n",
       " 2232      17\n",
       " 4549      32\n",
       " 12716     98\n",
       " 3952      30\n",
       "         ... \n",
       " 7328      49\n",
       " 12068     94\n",
       " 14272    110\n",
       " 5392      37\n",
       " 1652      14\n",
       " Name: primary_label, Length: 1000, dtype: int64,\n",
       " False,\n",
       " {'lr': <pycaret.containers.models.classification.LogisticRegressionClassifierContainer at 0x7f343ff67bb0>,\n",
       "  'knn': <pycaret.containers.models.classification.KNeighborsClassifierContainer at 0x7f343ff67d00>,\n",
       "  'nb': <pycaret.containers.models.classification.GaussianNBClassifierContainer at 0x7f343ff67d60>,\n",
       "  'dt': <pycaret.containers.models.classification.DecisionTreeClassifierContainer at 0x7f343ff67f40>,\n",
       "  'svm': <pycaret.containers.models.classification.SGDClassifierContainer at 0x7f343ff67f70>,\n",
       "  'rbfsvm': <pycaret.containers.models.classification.SVCClassifierContainer at 0x7f343ff6c520>,\n",
       "  'gpc': <pycaret.containers.models.classification.GaussianProcessClassifierContainer at 0x7f343ff6c670>,\n",
       "  'mlp': <pycaret.containers.models.classification.MLPClassifierContainer at 0x7f343ff6c730>,\n",
       "  'ridge': <pycaret.containers.models.classification.RidgeClassifierContainer at 0x7f343ff6c9d0>,\n",
       "  'rf': <pycaret.containers.models.classification.RandomForestClassifierContainer at 0x7f343ff6cbb0>,\n",
       "  'qda': <pycaret.containers.models.classification.QuadraticDiscriminantAnalysisContainer at 0x7f343ff6cdc0>,\n",
       "  'ada': <pycaret.containers.models.classification.AdaBoostClassifierContainer at 0x7f343ff74190>,\n",
       "  'gbc': <pycaret.containers.models.classification.GradientBoostingClassifierContainer at 0x7f343ff74310>,\n",
       "  'lda': <pycaret.containers.models.classification.LinearDiscriminantAnalysisContainer at 0x7f343ff74370>,\n",
       "  'et': <pycaret.containers.models.classification.ExtraTreesClassifierContainer at 0x7f343ff747f0>,\n",
       "  'lightgbm': <pycaret.containers.models.classification.LGBMClassifierContainer at 0x7f343ff74d90>,\n",
       "  'dummy': <pycaret.containers.models.classification.DummyClassifierContainer at 0x7f343ff67b50>,\n",
       "  'Bagging': <pycaret.containers.models.classification.BaggingClassifierContainer at 0x7f343ff74850>,\n",
       "  'Stacking': <pycaret.containers.models.classification.StackingClassifierContainer at 0x7f343ff67a00>,\n",
       "  'Voting': <pycaret.containers.models.classification.VotingClassifierContainer at 0x7f343ff679a0>,\n",
       "  'CalibratedCV': <pycaret.containers.models.classification.CalibratedClassifierCVContainer at 0x7f343ff67910>},\n",
       " '2140',\n",
       " None,\n",
       "         type   latitude   longitude  author  rating\n",
       " 8408   162.0  50.119099   18.972099   125.0     4.0\n",
       " 10237  131.0  19.675900 -155.384506    56.0     2.5\n",
       " 14811  181.0 -21.218599   55.475700    45.0     3.5\n",
       " 5190    72.0  51.462898   23.246000   137.0     5.0\n",
       " 6900   175.0 -15.355000  -38.981998    27.0     4.0\n",
       " ...      ...        ...         ...     ...     ...\n",
       " 3200   135.0  28.226700  -80.764503   253.0     4.0\n",
       " 11832   55.0  -2.291600  -78.116402   187.0     4.5\n",
       " 9600   181.0  29.583401  -95.612099    61.0     2.5\n",
       " 5837   146.0  60.699100   27.095400    77.0     3.5\n",
       " 6346   164.0  45.236500   27.283701   356.0     4.0\n",
       " \n",
       " [301 rows x 5 columns],\n",
       " <MLUsecase.CLASSIFICATION: 1>,\n",
       " 8408      63\n",
       " 10237     73\n",
       " 14811    119\n",
       " 5190      37\n",
       " 6900      49\n",
       "         ... \n",
       " 3200      27\n",
       " 11832     93\n",
       " 9600      68\n",
       " 5837      40\n",
       " 6346      45\n",
       " Name: primary_label, Length: 301, dtype: int64,\n",
       " False,\n",
       " False,\n",
       "         type   latitude   longitude  author  rating\n",
       " 9754   135.0  26.024099  -97.409798   253.0     5.0\n",
       " 2232    33.0 -41.056599  -62.834999    54.0     4.0\n",
       " 4549   177.0  54.195099   -3.092700   224.0     2.0\n",
       " 12716  135.0  28.681200  -80.694298   253.0     5.0\n",
       " 3952   157.0  48.459000   -5.129200   305.0     5.0\n",
       " ...      ...        ...         ...     ...     ...\n",
       " 7328   172.0  48.274101   10.818800   361.0     2.0\n",
       " 12068   74.0  48.819599    2.188500   305.0     0.0\n",
       " 14272  167.0  48.784000 -112.050697   331.0     2.5\n",
       " 5392    57.0  52.063801   -0.315500   251.0     4.0\n",
       " 1652   135.0 -14.269200 -170.585403   289.0     3.0\n",
       " \n",
       " [1000 rows x 5 columns],\n",
       " [],\n",
       " {'lr': <pycaret.containers.models.classification.LogisticRegressionClassifierContainer at 0x7f3440280100>,\n",
       "  'knn': <pycaret.containers.models.classification.KNeighborsClassifierContainer at 0x7f3440280220>,\n",
       "  'nb': <pycaret.containers.models.classification.GaussianNBClassifierContainer at 0x7f3440280d60>,\n",
       "  'dt': <pycaret.containers.models.classification.DecisionTreeClassifierContainer at 0x7f3440280ac0>,\n",
       "  'svm': <pycaret.containers.models.classification.SGDClassifierContainer at 0x7f3440280af0>,\n",
       "  'rbfsvm': <pycaret.containers.models.classification.SVCClassifierContainer at 0x7f343ffcf4f0>,\n",
       "  'gpc': <pycaret.containers.models.classification.GaussianProcessClassifierContainer at 0x7f343ffcf610>,\n",
       "  'mlp': <pycaret.containers.models.classification.MLPClassifierContainer at 0x7f343ffcf6d0>,\n",
       "  'ridge': <pycaret.containers.models.classification.RidgeClassifierContainer at 0x7f343ffadac0>,\n",
       "  'rf': <pycaret.containers.models.classification.RandomForestClassifierContainer at 0x7f343ffadc40>,\n",
       "  'qda': <pycaret.containers.models.classification.QuadraticDiscriminantAnalysisContainer at 0x7f343ffade50>,\n",
       "  'ada': <pycaret.containers.models.classification.AdaBoostClassifierContainer at 0x7f343ffb5160>,\n",
       "  'gbc': <pycaret.containers.models.classification.GradientBoostingClassifierContainer at 0x7f343ff5caf0>,\n",
       "  'lda': <pycaret.containers.models.classification.LinearDiscriminantAnalysisContainer at 0x7f343ff5cb80>,\n",
       "  'et': <pycaret.containers.models.classification.ExtraTreesClassifierContainer at 0x7f343ff5cfd0>,\n",
       "  'lightgbm': <pycaret.containers.models.classification.LGBMClassifierContainer at 0x7f343ff674c0>,\n",
       "  'dummy': <pycaret.containers.models.classification.DummyClassifierContainer at 0x7f343ff678b0>},\n",
       " Pipeline(memory=None,\n",
       "          steps=[('dtypes',\n",
       "                  DataTypes_Auto_infer(categorical_features=[],\n",
       "                                       display_types=False, features_todrop=[],\n",
       "                                       id_columns=[],\n",
       "                                       ml_usecase='classification',\n",
       "                                       numerical_features=[],\n",
       "                                       target='primary_label',\n",
       "                                       time_features=[])),\n",
       "                 ('imputer',\n",
       "                  Simple_Imputer(categorical_strategy='not_available',\n",
       "                                 fill_value_categorical=None,\n",
       "                                 fill_value_numerical=None,\n",
       "                                 numer...\n",
       "                 ('scaling', 'passthrough'), ('P_transform', 'passthrough'),\n",
       "                 ('binn', 'passthrough'), ('rem_outliers', 'passthrough'),\n",
       "                 ('cluster_all', 'passthrough'),\n",
       "                 ('dummy', Dummify(target='primary_label')),\n",
       "                 ('fix_perfect', Remove_100(target='primary_label')),\n",
       "                 ('clean_names', Clean_Colum_Names()),\n",
       "                 ('feature_select', 'passthrough'), ('fix_multi', 'passthrough'),\n",
       "                 ('dfs', 'passthrough'), ('pca', 'passthrough')],\n",
       "          verbose=False),\n",
       " 'clf-default-name',\n",
       " False,\n",
       " True,\n",
       " 6077,\n",
       " 10,\n",
       " {'parameter': 'Hyperparameters',\n",
       "  'auc': 'AUC',\n",
       "  'confusion_matrix': 'Confusion Matrix',\n",
       "  'threshold': 'Threshold',\n",
       "  'pr': 'Precision Recall',\n",
       "  'error': 'Prediction Error',\n",
       "  'class_report': 'Class Report',\n",
       "  'rfe': 'Feature Selection',\n",
       "  'learning': 'Learning Curve',\n",
       "  'manifold': 'Manifold Learning',\n",
       "  'calibration': 'Calibration Curve',\n",
       "  'vc': 'Validation Curve',\n",
       "  'dimension': 'Dimensions',\n",
       "  'feature': 'Feature Importance',\n",
       "  'feature_all': 'Feature Importance (All)',\n",
       "  'boundary': 'Decision Boundary',\n",
       "  'lift': 'Lift Chart',\n",
       "  'gain': 'Gain Chart',\n",
       "  'tree': 'Decision Tree',\n",
       "  'ks': 'KS Statistic Plot'},\n",
       " None,\n",
       "        primary_label  type  latitude  longitude  author  rating\n",
       " 9754              68   135   26.0241   -97.4098     253     5.0\n",
       " 2232              17    33  -41.0566   -62.8350      54     4.0\n",
       " 4549              32   177   54.1951    -3.0927     224     2.0\n",
       " 12716             98   135   28.6812   -80.6943     253     5.0\n",
       " 3952              30   157   48.4590    -5.1292     305     5.0\n",
       " ...              ...   ...       ...        ...     ...     ...\n",
       " 7328              49   172   48.2741    10.8188     361     2.0\n",
       " 12068             94    74   48.8196     2.1885     305     0.0\n",
       " 14272            110   167   48.7840  -112.0507     331     2.5\n",
       " 5392              37    57   52.0638    -0.3155     251     4.0\n",
       " 1652              14   135  -14.2692  -170.5854     289     3.0\n",
       " \n",
       " [1000 rows x 6 columns],\n",
       " [('Setup Config',\n",
       "                                  Description             Value\n",
       "   0                               session_id              6077\n",
       "   1                                   Target     primary_label\n",
       "   2                              Target Type        Multiclass\n",
       "   3                            Label Encoded              None\n",
       "   4                            Original Data         (1000, 6)\n",
       "   5                           Missing Values             False\n",
       "   6                         Numeric Features                 5\n",
       "   7                     Categorical Features                 0\n",
       "   8                         Ordinal Features             False\n",
       "   9                High Cardinality Features             False\n",
       "   10                 High Cardinality Method              None\n",
       "   11                   Transformed Train Set          (699, 5)\n",
       "   12                    Transformed Test Set          (301, 5)\n",
       "   13                      Shuffle Train-Test              True\n",
       "   14                     Stratify Train-Test             False\n",
       "   15                          Fold Generator   StratifiedKFold\n",
       "   16                             Fold Number                10\n",
       "   17                                CPU Jobs                -1\n",
       "   18                                 Use GPU             False\n",
       "   19                          Log Experiment             False\n",
       "   20                         Experiment Name  clf-default-name\n",
       "   21                                     USI              2140\n",
       "   22                         Imputation Type            simple\n",
       "   23          Iterative Imputation Iteration              None\n",
       "   24                         Numeric Imputer              mean\n",
       "   25      Iterative Imputation Numeric Model              None\n",
       "   26                     Categorical Imputer          constant\n",
       "   27  Iterative Imputation Categorical Model              None\n",
       "   28           Unknown Categoricals Handling    least_frequent\n",
       "   29                               Normalize             False\n",
       "   30                        Normalize Method              None\n",
       "   31                          Transformation             False\n",
       "   32                   Transformation Method              None\n",
       "   33                                     PCA             False\n",
       "   34                              PCA Method              None\n",
       "   35                          PCA Components              None\n",
       "   36                     Ignore Low Variance             False\n",
       "   37                     Combine Rare Levels             False\n",
       "   38                    Rare Level Threshold              None\n",
       "   39                         Numeric Binning             False\n",
       "   40                         Remove Outliers             False\n",
       "   41                      Outliers Threshold              None\n",
       "   42                Remove Multicollinearity             False\n",
       "   43             Multicollinearity Threshold              None\n",
       "   44             Remove Perfect Collinearity              True\n",
       "   45                              Clustering             False\n",
       "   46                    Clustering Iteration              None\n",
       "   47                     Polynomial Features             False\n",
       "   48                       Polynomial Degree              None\n",
       "   49                    Trignometry Features             False\n",
       "   50                    Polynomial Threshold              None\n",
       "   51                          Group Features             False\n",
       "   52                       Feature Selection             False\n",
       "   53                Feature Selection Method           classic\n",
       "   54            Features Selection Threshold              None\n",
       "   55                     Feature Interaction             False\n",
       "   56                           Feature Ratio             False\n",
       "   57                   Interaction Threshold              None\n",
       "   58                           Fix Imbalance             False\n",
       "   59                    Fix Imbalance Method             SMOTE),\n",
       "  ('X_training Set',\n",
       "           type   latitude   longitude  author  rating\n",
       "   7873   135.0  50.496300 -120.802299   123.0     3.0\n",
       "   9448   184.0  35.987000  -87.144997    40.0     5.0\n",
       "   14554  135.0  -4.214200   55.668900    58.0     4.0\n",
       "   7758   119.0  25.603600 -109.052101   127.0     5.0\n",
       "   10029  108.0  58.573101   14.248900   250.0     4.5\n",
       "   ...      ...        ...         ...     ...     ...\n",
       "   210    135.0  70.940903  147.974899   314.0     5.0\n",
       "   9181   181.0  37.892899  -84.392303    28.0     4.5\n",
       "   10497   81.0  46.143700    9.367800   190.0     5.0\n",
       "   2260   135.0  44.707001  -93.329002   159.0     3.5\n",
       "   5975   177.0  59.401901   13.539600   147.0     3.0\n",
       "   \n",
       "   [699 rows x 5 columns]),\n",
       "  ('y_training Set',\n",
       "   7873      59\n",
       "   9448      67\n",
       "   14554    114\n",
       "   7758      57\n",
       "   10029     70\n",
       "           ... \n",
       "   210        3\n",
       "   9181      67\n",
       "   10497     75\n",
       "   2260      18\n",
       "   5975      40\n",
       "   Name: primary_label, Length: 699, dtype: int64),\n",
       "  ('X_test Set',\n",
       "           type   latitude   longitude  author  rating\n",
       "   8408   162.0  50.119099   18.972099   125.0     4.0\n",
       "   10237  131.0  19.675900 -155.384506    56.0     2.5\n",
       "   14811  181.0 -21.218599   55.475700    45.0     3.5\n",
       "   5190    72.0  51.462898   23.246000   137.0     5.0\n",
       "   6900   175.0 -15.355000  -38.981998    27.0     4.0\n",
       "   ...      ...        ...         ...     ...     ...\n",
       "   3200   135.0  28.226700  -80.764503   253.0     4.0\n",
       "   11832   55.0  -2.291600  -78.116402   187.0     4.5\n",
       "   9600   181.0  29.583401  -95.612099    61.0     2.5\n",
       "   5837   146.0  60.699100   27.095400    77.0     3.5\n",
       "   6346   164.0  45.236500   27.283701   356.0     4.0\n",
       "   \n",
       "   [301 rows x 5 columns]),\n",
       "  ('y_test Set',\n",
       "   8408      63\n",
       "   10237     73\n",
       "   14811    119\n",
       "   5190      37\n",
       "   6900      49\n",
       "           ... \n",
       "   3200      27\n",
       "   11832     93\n",
       "   9600      68\n",
       "   5837      40\n",
       "   6346      45\n",
       "   Name: primary_label, Length: 301, dtype: int64),\n",
       "  ('Transformation Pipeline',\n",
       "   Pipeline(memory=None,\n",
       "            steps=[('dtypes',\n",
       "                    DataTypes_Auto_infer(categorical_features=[],\n",
       "                                         display_types=False, features_todrop=[],\n",
       "                                         id_columns=[],\n",
       "                                         ml_usecase='classification',\n",
       "                                         numerical_features=[],\n",
       "                                         target='primary_label',\n",
       "                                         time_features=[])),\n",
       "                   ('imputer',\n",
       "                    Simple_Imputer(categorical_strategy='not_available',\n",
       "                                   fill_value_categorical=None,\n",
       "                                   fill_value_numerical=None,\n",
       "                                   numer...\n",
       "                   ('scaling', 'passthrough'), ('P_transform', 'passthrough'),\n",
       "                   ('binn', 'passthrough'), ('rem_outliers', 'passthrough'),\n",
       "                   ('cluster_all', 'passthrough'),\n",
       "                   ('dummy', Dummify(target='primary_label')),\n",
       "                   ('fix_perfect', Remove_100(target='primary_label')),\n",
       "                   ('clean_names', Clean_Colum_Names()),\n",
       "                   ('feature_select', 'passthrough'), ('fix_multi', 'passthrough'),\n",
       "                   ('dfs', 'passthrough'), ('pca', 'passthrough')],\n",
       "            verbose=False))],\n",
       " 'lightgbm',\n",
       " 'lightgbm',\n",
       " False,\n",
       " 5,\n",
       " False,\n",
       "         type   latitude   longitude  author  rating\n",
       " 7873   135.0  50.496300 -120.802299   123.0     3.0\n",
       " 9448   184.0  35.987000  -87.144997    40.0     5.0\n",
       " 14554  135.0  -4.214200   55.668900    58.0     4.0\n",
       " 7758   119.0  25.603600 -109.052101   127.0     5.0\n",
       " 10029  108.0  58.573101   14.248900   250.0     4.5\n",
       " ...      ...        ...         ...     ...     ...\n",
       " 210    135.0  70.940903  147.974899   314.0     5.0\n",
       " 9181   181.0  37.892899  -84.392303    28.0     4.5\n",
       " 10497   81.0  46.143700    9.367800   190.0     5.0\n",
       " 2260   135.0  44.707001  -93.329002   159.0     3.5\n",
       " 5975   177.0  59.401901   13.539600   147.0     3.0\n",
       " \n",
       " [699 rows x 5 columns],\n",
       " -1,\n",
       " 'box-cox',\n",
       " {'USI',\n",
       "  'X',\n",
       "  'X_test',\n",
       "  'X_train',\n",
       "  '_all_metrics',\n",
       "  '_all_models',\n",
       "  '_all_models_internal',\n",
       "  '_available_plots',\n",
       "  '_gpu_n_jobs_param',\n",
       "  '_internal_pipeline',\n",
       "  '_ml_usecase',\n",
       "  'create_model_container',\n",
       "  'data_before_preprocess',\n",
       "  'display_container',\n",
       "  'exp_name_log',\n",
       "  'experiment__',\n",
       "  'fix_imbalance_method_param',\n",
       "  'fix_imbalance_param',\n",
       "  'fold_generator',\n",
       "  'fold_groups_param',\n",
       "  'fold_groups_param_full',\n",
       "  'fold_param',\n",
       "  'fold_shuffle_param',\n",
       "  'gpu_param',\n",
       "  'html_param',\n",
       "  'imputation_classifier',\n",
       "  'imputation_regressor',\n",
       "  'iterative_imputation_iters_param',\n",
       "  'log_plots_param',\n",
       "  'logging_param',\n",
       "  'master_model_container',\n",
       "  'n_jobs_param',\n",
       "  'prep_pipe',\n",
       "  'pycaret_globals',\n",
       "  'seed',\n",
       "  'stratify_param',\n",
       "  'target_param',\n",
       "  'transform_target_method_param',\n",
       "  'transform_target_param',\n",
       "  'y',\n",
       "  'y_test',\n",
       "  'y_train'},\n",
       " [<pandas.io.formats.style.Styler at 0x7f343fe8aa00>],\n",
       " 'primary_label',\n",
       " None,\n",
       " StratifiedKFold(n_splits=10, random_state=None, shuffle=False),\n",
       " False,\n",
       " -1,\n",
       " 7873      59\n",
       " 9448      67\n",
       " 14554    114\n",
       " 7758      57\n",
       " 10029     70\n",
       "         ... \n",
       " 210        3\n",
       " 9181      67\n",
       " 10497     75\n",
       " 2260      18\n",
       " 5975      40\n",
       " Name: primary_label, Length: 699, dtype: int64)"
      ]
     },
     "execution_count": 10,
     "metadata": {},
     "output_type": "execute_result"
    }
   ],
   "source": [
    "setup(data = train_df, \n",
    "      target = 'primary_label',\n",
    "      preprocess = True,\n",
    "      silent = True\n",
    "     )"
   ]
  },
  {
   "cell_type": "code",
   "execution_count": 11,
   "metadata": {
    "_kg_hide-output": true,
    "execution": {
     "iopub.execute_input": "2022-02-24T15:48:40.943069Z",
     "iopub.status.busy": "2022-02-24T15:48:40.939190Z",
     "iopub.status.idle": "2022-02-24T15:48:45.795564Z",
     "shell.execute_reply": "2022-02-24T15:48:45.794883Z",
     "shell.execute_reply.started": "2022-02-24T15:32:47.957262Z"
    },
    "papermill": {
     "duration": 5.911128,
     "end_time": "2022-02-24T15:48:45.795714",
     "exception": false,
     "start_time": "2022-02-24T15:48:39.884586",
     "status": "completed"
    },
    "tags": []
   },
   "outputs": [],
   "source": [
    "dt = create_model('dt',verbose = False)"
   ]
  },
  {
   "cell_type": "code",
   "execution_count": 12,
   "metadata": {
    "execution": {
     "iopub.execute_input": "2022-02-24T15:48:47.974907Z",
     "iopub.status.busy": "2022-02-24T15:48:47.974254Z",
     "iopub.status.idle": "2022-02-24T15:48:48.392403Z",
     "shell.execute_reply": "2022-02-24T15:48:48.391926Z",
     "shell.execute_reply.started": "2022-02-24T15:32:52.709160Z"
    },
    "papermill": {
     "duration": 1.531735,
     "end_time": "2022-02-24T15:48:48.392563",
     "exception": false,
     "start_time": "2022-02-24T15:48:46.860828",
     "status": "completed"
    },
    "tags": []
   },
   "outputs": [
    {
     "data": {
      "image/png": "[encoded data removed]",
      "text/plain": [
       "<Figure size 800x500 with 1 Axes>"
      ]
     },
     "metadata": {},
     "output_type": "display_data"
    }
   ],
   "source": [
    "plot_model(dt, plot='feature')"
   ]
  },
  {
   "cell_type": "markdown",
   "metadata": {
    "papermill": {
     "duration": 1.111562,
     "end_time": "2022-02-24T15:48:56.360469",
     "exception": false,
     "start_time": "2022-02-24T15:48:55.248907",
     "status": "completed"
    },
    "tags": []
   },
   "source": [
    "------------------------------------\n",
    "# Understanding Train Dataset\n",
    "\n",
    "Train data are audio files. Let's hear it for ourselves and see the waveform to see what strategy can solve this problem."
   ]
  },
  {
   "cell_type": "code",
   "execution_count": 13,
   "metadata": {
    "execution": {
     "iopub.execute_input": "2022-02-24T15:48:58.468609Z",
     "iopub.status.busy": "2022-02-24T15:48:58.467560Z",
     "iopub.status.idle": "2022-02-24T15:48:58.471054Z",
     "shell.execute_reply": "2022-02-24T15:48:58.470215Z",
     "shell.execute_reply.started": "2022-02-24T15:32:54.420240Z"
    },
    "papermill": {
     "duration": 1.052364,
     "end_time": "2022-02-24T15:48:58.471260",
     "exception": false,
     "start_time": "2022-02-24T15:48:57.418896",
     "status": "completed"
    },
    "tags": []
   },
   "outputs": [],
   "source": [
    "def show_bird(audios):\n",
    "    for fn in audios:\n",
    "        audio = AudioTensor.create(fn)\n",
    "        audio.show()"
   ]
  },
  {
   "cell_type": "code",
   "execution_count": 14,
   "metadata": {
    "execution": {
     "iopub.execute_input": "2022-02-24T15:50:53.310093Z",
     "iopub.status.busy": "2022-02-24T15:50:53.309068Z",
     "iopub.status.idle": "2022-02-24T15:50:53.314159Z",
     "shell.execute_reply": "2022-02-24T15:50:53.314788Z",
     "shell.execute_reply.started": "2022-02-24T15:33:09.859221Z"
    },
    "papermill": {
     "duration": 4.111606,
     "end_time": "2022-02-24T15:50:53.314976",
     "exception": false,
     "start_time": "2022-02-24T15:50:49.203370",
     "status": "completed"
    },
    "tags": []
   },
   "outputs": [],
   "source": [
    "aud2mfcc = AudioToMFCC(n_mfcc=40, melkwargs={'n_fft':2048, 'hop_length':256,'n_mels':128})"
   ]
  },
  {
   "cell_type": "markdown",
   "metadata": {
    "papermill": {
     "duration": 4.063925,
     "end_time": "2022-02-24T15:51:09.637841",
     "exception": false,
     "start_time": "2022-02-24T15:51:05.573916",
     "status": "completed"
    },
    "tags": []
   },
   "source": [
    "## Making Pipeline\n",
    "\n",
    "We build the pipeline in the following order.\n",
    "> Resample -> DownmixMono -> RemoveSilence -> ResizeSignal -> AudioToMFCC -> Delta -> ToTensor"
   ]
  },
  {
   "cell_type": "code",
   "execution_count": 15,
   "metadata": {
    "execution": {
     "iopub.execute_input": "2022-02-24T15:51:17.707150Z",
     "iopub.status.busy": "2022-02-24T15:51:17.706184Z",
     "iopub.status.idle": "2022-02-24T15:51:17.708794Z",
     "shell.execute_reply": "2022-02-24T15:51:17.708210Z",
     "shell.execute_reply.started": "2022-02-24T15:33:09.870124Z"
    },
    "papermill": {
     "duration": 4.033362,
     "end_time": "2022-02-24T15:51:17.708932",
     "exception": false,
     "start_time": "2022-02-24T15:51:13.675570",
     "status": "completed"
    },
    "tags": []
   },
   "outputs": [],
   "source": [
    "item_tfms = [RemoveSilence(),ResizeSignal(1000), aud2mfcc, Delta()]"
   ]
  },
  {
   "cell_type": "code",
   "execution_count": 16,
   "metadata": {
    "execution": {
     "iopub.execute_input": "2022-02-24T15:51:25.798784Z",
     "iopub.status.busy": "2022-02-24T15:51:25.798138Z",
     "iopub.status.idle": "2022-02-24T15:51:26.084241Z",
     "shell.execute_reply": "2022-02-24T15:51:26.084738Z",
     "shell.execute_reply.started": "2022-02-24T15:33:10.306264Z"
    },
    "papermill": {
     "duration": 4.36713,
     "end_time": "2022-02-24T15:51:26.084914",
     "exception": false,
     "start_time": "2022-02-24T15:51:21.717784",
     "status": "completed"
    },
    "tags": []
   },
   "outputs": [],
   "source": [
    "aud_digit = DataBlock(blocks=(AudioBlock, CategoryBlock),  \n",
    "                 get_items=get_audio_files, \n",
    "                 splitter=RandomSplitter(),\n",
    "                 item_tfms = item_tfms,\n",
    "                 get_y=parent_label)"
   ]
  },
  {
   "cell_type": "code",
   "execution_count": 17,
   "metadata": {
    "execution": {
     "iopub.execute_input": "2022-02-24T15:51:34.520760Z",
     "iopub.status.busy": "2022-02-24T15:51:34.520088Z",
     "iopub.status.idle": "2022-02-24T15:51:37.960432Z",
     "shell.execute_reply": "2022-02-24T15:51:37.959341Z",
     "shell.execute_reply.started": "2022-02-24T15:33:10.586046Z"
    },
    "papermill": {
     "duration": 7.667278,
     "end_time": "2022-02-24T15:51:37.960662",
     "exception": false,
     "start_time": "2022-02-24T15:51:30.293384",
     "status": "completed"
    },
    "tags": []
   },
   "outputs": [
    {
     "name": "stdout",
     "output_type": "stream",
     "text": [
      "Setting-up type transforms pipelines\n",
      "Collecting items from ../../input/birdclef-2022/train_audio\n",
      "Found 14852 items\n",
      "2 datasets of sizes 11882,2970\n",
      "Setting up Pipeline: partial\n",
      "Setting up Pipeline: parent_label -> Categorize -- {'vocab': None, 'sort': True, 'add_na': False}\n",
      "\n",
      "Building one sample\n",
      "  Pipeline: partial\n",
      "    starting from\n",
      "      ../../input/birdclef-2022/train_audio/mallar3/XC297303.ogg\n",
      "    applying partial gives\n",
      "      AudioTensor of size 1x418560\n",
      "  Pipeline: parent_label -> Categorize -- {'vocab': None, 'sort': True, 'add_na': False}\n",
      "    starting from\n",
      "      ../../input/birdclef-2022/train_audio/mallar3/XC297303.ogg\n",
      "    applying parent_label gives\n",
      "      mallar3\n",
      "    applying Categorize -- {'vocab': None, 'sort': True, 'add_na': False} gives\n",
      "      TensorCategory(87)\n",
      "\n",
      "Final sample: (AudioTensor([[-3.0518e-05,  0.0000e+00,  0.0000e+00,  ..., -3.0518e-05,\n",
      "          0.0000e+00,  0.0000e+00]]), TensorCategory(87))\n",
      "\n",
      "\n",
      "Collecting items from ../../input/birdclef-2022/train_audio\n",
      "Found 14852 items\n",
      "2 datasets of sizes 11882,2970\n",
      "Setting up Pipeline: partial\n",
      "Setting up Pipeline: parent_label -> Categorize -- {'vocab': None, 'sort': True, 'add_na': False}\n",
      "Setting up after_item: Pipeline: Resample -> DownmixMono -> RemoveSilence -> ResizeSignal -> AudioToMFCC -> Delta -> ToTensor\n",
      "Setting up before_batch: Pipeline: \n",
      "Setting up after_batch: Pipeline: IntToFloatTensor -- {'div': 255.0, 'div_mask': 1}\n",
      "\n",
      "Building one batch\n",
      "Applying item_tfms to the first sample:\n",
      "  Pipeline: Resample -> DownmixMono -> RemoveSilence -> ResizeSignal -> AudioToMFCC -> Delta -> ToTensor\n",
      "    starting from\n",
      "      (AudioTensor of size 1x418560, TensorCategory(87))\n",
      "    applying Resample gives\n",
      "      (AudioTensor of size 1x209280, TensorCategory(87))\n",
      "    applying DownmixMono gives\n",
      "      (AudioTensor of size 1x209280, TensorCategory(87))\n",
      "    applying RemoveSilence gives\n",
      "      (AudioTensor of size 1x207360, TensorCategory(87))\n",
      "    applying ResizeSignal gives\n",
      "      (AudioTensor of size 1x16000, TensorCategory(87))\n",
      "    applying AudioToMFCC gives\n",
      "      (AudioSpectrogram of size 1x40x63, TensorCategory(87))\n",
      "    applying Delta gives\n",
      "      (AudioSpectrogram of size 3x40x63, TensorCategory(87))\n",
      "    applying ToTensor gives\n",
      "      (AudioSpectrogram of size 3x40x63, TensorCategory(87))\n",
      "\n",
      "Adding the next 3 samples\n",
      "\n",
      "No before_batch transform to apply\n",
      "\n",
      "Collating items in a batch\n",
      "\n",
      "Applying batch_tfms to the batch built\n",
      "  Pipeline: IntToFloatTensor -- {'div': 255.0, 'div_mask': 1}\n",
      "    starting from\n",
      "      (AudioSpectrogram of size 4x3x40x63, TensorCategory([ 87,  87, 143,  87], device='cuda:0'))\n",
      "    applying IntToFloatTensor -- {'div': 255.0, 'div_mask': 1} gives\n",
      "      (AudioSpectrogram of size 4x3x40x63, TensorCategory([ 87,  87, 143,  87], device='cuda:0'))\n"
     ]
    }
   ],
   "source": [
    "aud_digit.summary(DATA_DIR)"
   ]
  },
  {
   "cell_type": "code",
   "execution_count": 18,
   "metadata": {
    "execution": {
     "iopub.execute_input": "2022-02-24T15:51:46.035209Z",
     "iopub.status.busy": "2022-02-24T15:51:46.034585Z",
     "iopub.status.idle": "2022-02-24T15:51:46.857247Z",
     "shell.execute_reply": "2022-02-24T15:51:46.856687Z",
     "shell.execute_reply.started": "2022-02-24T15:35:15.694301Z"
    },
    "papermill": {
     "duration": 4.847629,
     "end_time": "2022-02-24T15:51:46.857377",
     "exception": false,
     "start_time": "2022-02-24T15:51:42.009748",
     "status": "completed"
    },
    "tags": []
   },
   "outputs": [],
   "source": [
    "dls = aud_digit.dataloaders(DATA_DIR, bs=16)"
   ]
  },
  {
   "cell_type": "code",
   "execution_count": 19,
   "metadata": {
    "execution": {
     "iopub.execute_input": "2022-02-24T15:51:54.941442Z",
     "iopub.status.busy": "2022-02-24T15:51:54.940857Z",
     "iopub.status.idle": "2022-02-24T15:51:54.943147Z",
     "shell.execute_reply": "2022-02-24T15:51:54.943591Z",
     "shell.execute_reply.started": "2022-02-24T15:35:16.502094Z"
    },
    "papermill": {
     "duration": 4.031008,
     "end_time": "2022-02-24T15:51:54.943749",
     "exception": false,
     "start_time": "2022-02-24T15:51:50.912741",
     "status": "completed"
    },
    "tags": []
   },
   "outputs": [
    {
     "data": {
      "text/plain": [
       "152"
      ]
     },
     "execution_count": 19,
     "metadata": {},
     "output_type": "execute_result"
    }
   ],
   "source": [
    "dls.c"
   ]
  },
  {
   "cell_type": "markdown",
   "metadata": {
    "papermill": {
     "duration": 4.077108,
     "end_time": "2022-02-24T15:52:03.119788",
     "exception": false,
     "start_time": "2022-02-24T15:51:59.042680",
     "status": "completed"
    },
    "tags": []
   },
   "source": [
    "<span style=\"color:Blue\"> Observation:\n",
    "    \n",
    "* Target is composed of 152 classes."
   ]
  },
  {
   "cell_type": "markdown",
   "metadata": {
    "papermill": {
     "duration": 4.085085,
     "end_time": "2022-02-24T15:52:11.264644",
     "exception": false,
     "start_time": "2022-02-24T15:52:07.179559",
     "status": "completed"
    },
    "tags": []
   },
   "source": [
    "--------------------------------------------------------------------\n",
    "## Checking batch"
   ]
  },
  {
   "cell_type": "code",
   "execution_count": 20,
   "metadata": {
    "execution": {
     "iopub.execute_input": "2022-02-24T15:52:19.365128Z",
     "iopub.status.busy": "2022-02-24T15:52:19.364467Z",
     "iopub.status.idle": "2022-02-24T15:52:23.571665Z",
     "shell.execute_reply": "2022-02-24T15:52:23.570760Z",
     "shell.execute_reply.started": "2022-02-24T15:35:16.510156Z"
    },
    "papermill": {
     "duration": 8.278593,
     "end_time": "2022-02-24T15:52:23.571813",
     "exception": false,
     "start_time": "2022-02-24T15:52:15.293220",
     "status": "completed"
    },
    "tags": []
   },
   "outputs": [
    {
     "data": {
      "text/plain": [
       "<Figure size 720x576 with 0 Axes>"
      ]
     },
     "metadata": {},
     "output_type": "display_data"
    },
    {
     "data": {
      "image/png": "[encoded data removed]",
      "text/plain": [
       "<Figure size 1440x720 with 4 Axes>"
      ]
     },
     "metadata": {},
     "output_type": "display_data"
    }
   ],
   "source": [
    "plt.figure(figsize=(10, 8))\n",
    "dls.show_batch(max_n=3,figsize=(20,10))"
   ]
  },
  {
   "cell_type": "markdown",
   "metadata": {
    "papermill": {
     "duration": 4.120677,
     "end_time": "2022-02-24T15:52:39.889499",
     "exception": false,
     "start_time": "2022-02-24T15:52:35.768822",
     "status": "completed"
    },
    "tags": []
   },
   "source": [
    "------------------------------------------------------\n",
    "# Modeling"
   ]
  },
  {
   "cell_type": "code",
   "execution_count": 21,
   "metadata": {
    "execution": {
     "iopub.execute_input": "2022-02-24T15:52:48.156363Z",
     "iopub.status.busy": "2022-02-24T15:52:48.155765Z",
     "iopub.status.idle": "2022-02-24T15:52:48.157237Z",
     "shell.execute_reply": "2022-02-24T15:52:48.157818Z",
     "shell.execute_reply.started": "2022-02-24T15:35:38.739173Z"
    },
    "papermill": {
     "duration": 4.126424,
     "end_time": "2022-02-24T15:52:48.157980",
     "exception": false,
     "start_time": "2022-02-24T15:52:44.031556",
     "status": "completed"
    },
    "tags": []
   },
   "outputs": [],
   "source": [
    "def audio_learner(dls, arch, loss_func, metrics):\n",
    "  \"Prepares a `Learner` for audio processing\"\n",
    "  learn = Learner(dls, arch, loss_func, metrics=metrics, \n",
    "                  cbs = [EarlyStoppingCallback(monitor='accuracy', patience=5),ActivationStats(with_hist=True)]).to_fp16()\n",
    "  n_c = dls.one_batch()[0].shape[1]\n",
    "  if n_c == 1: alter_learner(learn)\n",
    "  return learn"
   ]
  },
  {
   "cell_type": "code",
   "execution_count": 22,
   "metadata": {
    "execution": {
     "iopub.execute_input": "2022-02-24T15:52:56.339215Z",
     "iopub.status.busy": "2022-02-24T15:52:56.338264Z",
     "iopub.status.idle": "2022-02-24T15:53:01.658082Z",
     "shell.execute_reply": "2022-02-24T15:53:01.657184Z",
     "shell.execute_reply.started": "2022-02-24T15:35:38.746434Z"
    },
    "papermill": {
     "duration": 9.348496,
     "end_time": "2022-02-24T15:53:01.658222",
     "exception": false,
     "start_time": "2022-02-24T15:52:52.309726",
     "status": "completed"
    },
    "tags": []
   },
   "outputs": [],
   "source": [
    "# from efficientnet_pytorch import EfficientNet\n",
    "# model = EfficientNet.from_pretrained('efficientnet-b0')\n",
    "# model._fc = nn.Linear(1280, dls.c)\n",
    "\n",
    "learn = audio_learner(dls, \n",
    "                      xresnet18(), \n",
    "                      LabelSmoothingCrossEntropy(), \n",
    "                      accuracy)"
   ]
  },
  {
   "cell_type": "code",
   "execution_count": 23,
   "metadata": {
    "execution": {
     "iopub.execute_input": "2022-02-24T15:53:17.895684Z",
     "iopub.status.busy": "2022-02-24T15:53:17.881397Z",
     "iopub.status.idle": "2022-02-24T15:56:31.382406Z",
     "shell.execute_reply": "2022-02-24T15:56:31.382861Z",
     "shell.execute_reply.started": "2022-02-24T15:36:03.081657Z"
    },
    "papermill": {
     "duration": 197.529644,
     "end_time": "2022-02-24T15:56:31.383059",
     "exception": false,
     "start_time": "2022-02-24T15:53:13.853415",
     "status": "completed"
    },
    "tags": []
   },
   "outputs": [
    {
     "data": {
      "text/html": [
       "\n",
       "<style>\n",
       "    /* Turns off some styling */\n",
       "    progress {\n",
       "        /* gets rid of default border in Firefox and Opera. */\n",
       "        border: none;\n",
       "        /* Needs to be in here for Safari polyfill so background images work as expected. */\n",
       "        background-size: auto;\n",
       "    }\n",
       "    .progress-bar-interrupted, .progress-bar-interrupted::-webkit-progress-bar {\n",
       "        background: #F44336;\n",
       "    }\n",
       "</style>\n"
      ],
      "text/plain": [
       "<IPython.core.display.HTML object>"
      ]
     },
     "metadata": {},
     "output_type": "display_data"
    },
    {
     "data": {
      "text/html": [],
      "text/plain": [
       "<IPython.core.display.HTML object>"
      ]
     },
     "metadata": {},
     "output_type": "display_data"
    },
    {
     "data": {
      "text/plain": [
       "SuggestedLRs(lr_min=0.19054607152938843, lr_steep=0.00363078061491251)"
      ]
     },
     "execution_count": 23,
     "metadata": {},
     "output_type": "execute_result"
    },
    {
     "data": {
      "image/png": "[encoded data removed]",
      "text/plain": [
       "<Figure size 576x396 with 1 Axes>"
      ]
     },
     "metadata": {},
     "output_type": "display_data"
    }
   ],
   "source": [
    "sr = learn.lr_find()\n",
    "sr"
   ]
  },
  {
   "cell_type": "markdown",
   "metadata": {
    "papermill": {
     "duration": 4.041996,
     "end_time": "2022-02-24T15:56:39.527711",
     "exception": false,
     "start_time": "2022-02-24T15:56:35.485715",
     "status": "completed"
    },
    "tags": []
   },
   "source": [
    "------------------------------------------------\n",
    "# Training"
   ]
  },
  {
   "cell_type": "code",
   "execution_count": 24,
   "metadata": {
    "execution": {
     "iopub.execute_input": "2022-02-24T15:56:47.659936Z",
     "iopub.status.busy": "2022-02-24T15:56:47.659003Z",
     "iopub.status.idle": "2022-02-24T20:34:08.602683Z",
     "shell.execute_reply": "2022-02-24T20:34:08.603236Z",
     "shell.execute_reply.started": "2022-02-24T15:42:43.714214Z"
    },
    "papermill": {
     "duration": 16645.027755,
     "end_time": "2022-02-24T20:34:08.603491",
     "exception": false,
     "start_time": "2022-02-24T15:56:43.575736",
     "status": "completed"
    },
    "tags": []
   },
   "outputs": [
    {
     "data": {
      "text/html": [
       "\n",
       "<style>\n",
       "    /* Turns off some styling */\n",
       "    progress {\n",
       "        /* gets rid of default border in Firefox and Opera. */\n",
       "        border: none;\n",
       "        /* Needs to be in here for Safari polyfill so background images work as expected. */\n",
       "        background-size: auto;\n",
       "    }\n",
       "    .progress-bar-interrupted, .progress-bar-interrupted::-webkit-progress-bar {\n",
       "        background: #F44336;\n",
       "    }\n",
       "</style>\n"
      ],
      "text/plain": [
       "<IPython.core.display.HTML object>"
      ]
     },
     "metadata": {},
     "output_type": "display_data"
    },
    {
     "data": {
      "text/html": [
       "<table border=\"1\" class=\"dataframe\">\n",
       "  <thead>\n",
       "    <tr style=\"text-align: left;\">\n",
       "      <th>epoch</th>\n",
       "      <th>train_loss</th>\n",
       "      <th>valid_loss</th>\n",
       "      <th>accuracy</th>\n",
       "      <th>time</th>\n",
       "    </tr>\n",
       "  </thead>\n",
       "  <tbody>\n",
       "    <tr>\n",
       "      <td>0</td>\n",
       "      <td>4.574412</td>\n",
       "      <td>4.723834</td>\n",
       "      <td>0.115152</td>\n",
       "      <td>04:48</td>\n",
       "    </tr>\n",
       "    <tr>\n",
       "      <td>1</td>\n",
       "      <td>4.362818</td>\n",
       "      <td>4.637516</td>\n",
       "      <td>0.132660</td>\n",
       "      <td>04:56</td>\n",
       "    </tr>\n",
       "    <tr>\n",
       "      <td>2</td>\n",
       "      <td>4.135171</td>\n",
       "      <td>4.217168</td>\n",
       "      <td>0.201010</td>\n",
       "      <td>04:38</td>\n",
       "    </tr>\n",
       "    <tr>\n",
       "      <td>3</td>\n",
       "      <td>3.970837</td>\n",
       "      <td>4.027332</td>\n",
       "      <td>0.241751</td>\n",
       "      <td>04:40</td>\n",
       "    </tr>\n",
       "    <tr>\n",
       "      <td>4</td>\n",
       "      <td>3.744967</td>\n",
       "      <td>3.998763</td>\n",
       "      <td>0.253535</td>\n",
       "      <td>04:51</td>\n",
       "    </tr>\n",
       "    <tr>\n",
       "      <td>5</td>\n",
       "      <td>3.575875</td>\n",
       "      <td>3.770216</td>\n",
       "      <td>0.302020</td>\n",
       "      <td>04:42</td>\n",
       "    </tr>\n",
       "    <tr>\n",
       "      <td>6</td>\n",
       "      <td>3.480796</td>\n",
       "      <td>3.617463</td>\n",
       "      <td>0.340404</td>\n",
       "      <td>04:43</td>\n",
       "    </tr>\n",
       "    <tr>\n",
       "      <td>7</td>\n",
       "      <td>3.380949</td>\n",
       "      <td>3.572118</td>\n",
       "      <td>0.344781</td>\n",
       "      <td>04:37</td>\n",
       "    </tr>\n",
       "    <tr>\n",
       "      <td>8</td>\n",
       "      <td>3.370722</td>\n",
       "      <td>3.559389</td>\n",
       "      <td>0.359933</td>\n",
       "      <td>05:08</td>\n",
       "    </tr>\n",
       "    <tr>\n",
       "      <td>9</td>\n",
       "      <td>3.290123</td>\n",
       "      <td>3.550770</td>\n",
       "      <td>0.359259</td>\n",
       "      <td>04:49</td>\n",
       "    </tr>\n",
       "  </tbody>\n",
       "</table>"
      ],
      "text/plain": [
       "<IPython.core.display.HTML object>"
      ]
     },
     "metadata": {},
     "output_type": "display_data"
    },
    {
     "name": "stderr",
     "output_type": "stream",
     "text": [
      "/home/kitemetric/anaconda3/envs/birdclef/lib/python3.8/site-packages/sklearn/metrics/_classification.py:1221: UndefinedMetricWarning: Recall is ill-defined and being set to 0.0 in labels with no true samples. Use `zero_division` parameter to control this behavior.\n",
      "  _warn_prf(average, modifier, msg_start, len(result))\n",
      "/home/kitemetric/anaconda3/envs/birdclef/lib/python3.8/site-packages/sklearn/metrics/_classification.py:1221: UndefinedMetricWarning: Precision is ill-defined and being set to 0.0 in labels with no predicted samples. Use `zero_division` parameter to control this behavior.\n",
      "  _warn_prf(average, modifier, msg_start, len(result))\n",
      "/home/kitemetric/anaconda3/envs/birdclef/lib/python3.8/site-packages/sklearn/metrics/_classification.py:1221: UndefinedMetricWarning: Recall is ill-defined and being set to 0.0 in labels with no true samples. Use `zero_division` parameter to control this behavior.\n",
      "  _warn_prf(average, modifier, msg_start, len(result))\n",
      "/home/kitemetric/anaconda3/envs/birdclef/lib/python3.8/site-packages/sklearn/metrics/_classification.py:1221: UndefinedMetricWarning: Precision is ill-defined and being set to 0.0 in labels with no predicted samples. Use `zero_division` parameter to control this behavior.\n",
      "  _warn_prf(average, modifier, msg_start, len(result))\n",
      "/home/kitemetric/anaconda3/envs/birdclef/lib/python3.8/site-packages/sklearn/metrics/_classification.py:1221: UndefinedMetricWarning: Recall is ill-defined and being set to 0.0 in labels with no true samples. Use `zero_division` parameter to control this behavior.\n",
      "  _warn_prf(average, modifier, msg_start, len(result))\n",
      "/home/kitemetric/anaconda3/envs/birdclef/lib/python3.8/site-packages/sklearn/metrics/_classification.py:1221: UndefinedMetricWarning: Precision is ill-defined and being set to 0.0 in labels with no predicted samples. Use `zero_division` parameter to control this behavior.\n",
      "  _warn_prf(average, modifier, msg_start, len(result))\n",
      "/home/kitemetric/anaconda3/envs/birdclef/lib/python3.8/site-packages/sklearn/metrics/_classification.py:1221: UndefinedMetricWarning: Recall is ill-defined and being set to 0.0 in labels with no true samples. Use `zero_division` parameter to control this behavior.\n",
      "  _warn_prf(average, modifier, msg_start, len(result))\n",
      "/home/kitemetric/anaconda3/envs/birdclef/lib/python3.8/site-packages/sklearn/metrics/_classification.py:1221: UndefinedMetricWarning: Precision is ill-defined and being set to 0.0 in labels with no predicted samples. Use `zero_division` parameter to control this behavior.\n",
      "  _warn_prf(average, modifier, msg_start, len(result))\n",
      "/home/kitemetric/anaconda3/envs/birdclef/lib/python3.8/site-packages/sklearn/metrics/_classification.py:1221: UndefinedMetricWarning: Recall is ill-defined and being set to 0.0 in labels with no true samples. Use `zero_division` parameter to control this behavior.\n",
      "  _warn_prf(average, modifier, msg_start, len(result))\n",
      "/home/kitemetric/anaconda3/envs/birdclef/lib/python3.8/site-packages/sklearn/metrics/_classification.py:1221: UndefinedMetricWarning: Precision is ill-defined and being set to 0.0 in labels with no predicted samples. Use `zero_division` parameter to control this behavior.\n",
      "  _warn_prf(average, modifier, msg_start, len(result))\n",
      "/home/kitemetric/anaconda3/envs/birdclef/lib/python3.8/site-packages/sklearn/metrics/_classification.py:1221: UndefinedMetricWarning: Recall is ill-defined and being set to 0.0 in labels with no true samples. Use `zero_division` parameter to control this behavior.\n",
      "  _warn_prf(average, modifier, msg_start, len(result))\n",
      "/home/kitemetric/anaconda3/envs/birdclef/lib/python3.8/site-packages/sklearn/metrics/_classification.py:1221: UndefinedMetricWarning: Precision is ill-defined and being set to 0.0 in labels with no predicted samples. Use `zero_division` parameter to control this behavior.\n",
      "  _warn_prf(average, modifier, msg_start, len(result))\n",
      "/home/kitemetric/anaconda3/envs/birdclef/lib/python3.8/site-packages/sklearn/metrics/_classification.py:1221: UndefinedMetricWarning: Recall is ill-defined and being set to 0.0 in labels with no true samples. Use `zero_division` parameter to control this behavior.\n",
      "  _warn_prf(average, modifier, msg_start, len(result))\n",
      "/home/kitemetric/anaconda3/envs/birdclef/lib/python3.8/site-packages/sklearn/metrics/_classification.py:1221: UndefinedMetricWarning: Precision is ill-defined and being set to 0.0 in labels with no predicted samples. Use `zero_division` parameter to control this behavior.\n",
      "  _warn_prf(average, modifier, msg_start, len(result))\n",
      "/home/kitemetric/anaconda3/envs/birdclef/lib/python3.8/site-packages/sklearn/metrics/_classification.py:1221: UndefinedMetricWarning: Recall is ill-defined and being set to 0.0 in labels with no true samples. Use `zero_division` parameter to control this behavior.\n",
      "  _warn_prf(average, modifier, msg_start, len(result))\n",
      "/home/kitemetric/anaconda3/envs/birdclef/lib/python3.8/site-packages/sklearn/metrics/_classification.py:1221: UndefinedMetricWarning: Precision is ill-defined and being set to 0.0 in labels with no predicted samples. Use `zero_division` parameter to control this behavior.\n",
      "  _warn_prf(average, modifier, msg_start, len(result))\n",
      "/home/kitemetric/anaconda3/envs/birdclef/lib/python3.8/site-packages/sklearn/metrics/_classification.py:1221: UndefinedMetricWarning: Recall is ill-defined and being set to 0.0 in labels with no true samples. Use `zero_division` parameter to control this behavior.\n",
      "  _warn_prf(average, modifier, msg_start, len(result))\n",
      "/home/kitemetric/anaconda3/envs/birdclef/lib/python3.8/site-packages/sklearn/metrics/_classification.py:1221: UndefinedMetricWarning: Precision is ill-defined and being set to 0.0 in labels with no predicted samples. Use `zero_division` parameter to control this behavior.\n",
      "  _warn_prf(average, modifier, msg_start, len(result))\n",
      "/home/kitemetric/anaconda3/envs/birdclef/lib/python3.8/site-packages/sklearn/metrics/_classification.py:1221: UndefinedMetricWarning: Recall is ill-defined and being set to 0.0 in labels with no true samples. Use `zero_division` parameter to control this behavior.\n",
      "  _warn_prf(average, modifier, msg_start, len(result))\n",
      "/home/kitemetric/anaconda3/envs/birdclef/lib/python3.8/site-packages/sklearn/metrics/_classification.py:1221: UndefinedMetricWarning: Precision is ill-defined and being set to 0.0 in labels with no predicted samples. Use `zero_division` parameter to control this behavior.\n",
      "  _warn_prf(average, modifier, msg_start, len(result))\n"
     ]
    }
   ],
   "source": [
    "learn.fit_one_cycle(10, sr.lr_steep)"
   ]
  },
  {
   "cell_type": "markdown",
   "metadata": {
    "papermill": {
     "duration": 4.073081,
     "end_time": "2022-02-24T20:34:16.842034",
     "exception": false,
     "start_time": "2022-02-24T20:34:12.768953",
     "status": "completed"
    },
    "tags": []
   },
   "source": [
    "-------------------------------------------\n",
    "# Interpreting Model"
   ]
  },
  {
   "cell_type": "code",
   "execution_count": 25,
   "metadata": {
    "execution": {
     "iopub.execute_input": "2022-02-24T20:34:25.034215Z",
     "iopub.status.busy": "2022-02-24T20:34:25.033582Z",
     "iopub.status.idle": "2022-02-24T20:34:25.037093Z",
     "shell.execute_reply": "2022-02-24T20:34:25.036633Z",
     "shell.execute_reply.started": "2022-02-24T15:34:31.737250Z"
    },
    "papermill": {
     "duration": 4.089351,
     "end_time": "2022-02-24T20:34:25.037234",
     "exception": false,
     "start_time": "2022-02-24T20:34:20.947883",
     "status": "completed"
    },
    "tags": []
   },
   "outputs": [],
   "source": [
    "def plot_layer_stats(self, idx):\n",
    "    plt,axs = subplots(1, 3, figsize=(15,3))\n",
    "    plt.subplots_adjust(wspace=0.5)\n",
    "    for o,ax,title in zip(self.layer_stats(idx),axs,('mean','std','% near zero')):\n",
    "        ax.plot(o)\n",
    "        ax.set_title(title)"
   ]
  },
  {
   "cell_type": "code",
   "execution_count": 26,
   "metadata": {
    "execution": {
     "iopub.execute_input": "2022-02-24T20:34:33.333415Z",
     "iopub.status.busy": "2022-02-24T20:34:33.332383Z",
     "iopub.status.idle": "2022-02-24T20:34:33.970925Z",
     "shell.execute_reply": "2022-02-24T20:34:33.971362Z",
     "shell.execute_reply.started": "2022-02-24T15:34:31.744660Z"
    },
    "papermill": {
     "duration": 4.813069,
     "end_time": "2022-02-24T20:34:33.971540",
     "exception": false,
     "start_time": "2022-02-24T20:34:29.158471",
     "status": "completed"
    },
    "tags": []
   },
   "outputs": [
    {
     "data": {
      "image/png": "[encoded data removed]",
      "text/plain": [
       "<Figure size 1080x216 with 3 Axes>"
      ]
     },
     "metadata": {},
     "output_type": "display_data"
    }
   ],
   "source": [
    "plot_layer_stats(learn.activation_stats,-2)"
   ]
  },
  {
   "cell_type": "code",
   "execution_count": 27,
   "metadata": {
    "execution": {
     "iopub.execute_input": "2022-02-24T20:34:42.165655Z",
     "iopub.status.busy": "2022-02-24T20:34:42.164369Z",
     "iopub.status.idle": "2022-02-24T20:34:42.720704Z",
     "shell.execute_reply": "2022-02-24T20:34:42.720154Z",
     "shell.execute_reply.started": "2022-02-24T15:34:31.749155Z"
    },
    "papermill": {
     "duration": 4.657716,
     "end_time": "2022-02-24T20:34:42.720855",
     "exception": false,
     "start_time": "2022-02-24T20:34:38.063139",
     "status": "completed"
    },
    "tags": []
   },
   "outputs": [
    {
     "data": {
      "image/png": "[encoded data removed]",
      "text/plain": [
       "<Figure size 1080x216 with 3 Axes>"
      ]
     },
     "metadata": {},
     "output_type": "display_data"
    }
   ],
   "source": [
    "plot_layer_stats(learn.activation_stats,-1)"
   ]
  },
  {
   "cell_type": "markdown",
   "metadata": {
    "papermill": {
     "duration": 4.075624,
     "end_time": "2022-02-24T20:34:50.876640",
     "exception": false,
     "start_time": "2022-02-24T20:34:46.801016",
     "status": "completed"
    },
    "tags": []
   },
   "source": [
    "<span style=\"color:Blue\"> Observation:\n",
    "* The activation distribution is well distributed."
   ]
  },
  {
   "cell_type": "markdown",
   "metadata": {
    "papermill": {
     "duration": 4.01895,
     "end_time": "2022-02-24T20:34:58.941940",
     "exception": false,
     "start_time": "2022-02-24T20:34:54.922990",
     "status": "completed"
    },
    "tags": []
   },
   "source": [
    "learn.save('stage-1')"
   ]
  },
  {
   "cell_type": "code",
   "execution_count": 28,
   "metadata": {
    "execution": {
     "iopub.execute_input": "2022-02-24T20:35:07.257430Z",
     "iopub.status.busy": "2022-02-24T20:35:07.256097Z",
     "iopub.status.idle": "2022-02-24T20:35:07.678479Z",
     "shell.execute_reply": "2022-02-24T20:35:07.678004Z",
     "shell.execute_reply.started": "2022-02-24T15:34:31.754600Z"
    },
    "papermill": {
     "duration": 4.576591,
     "end_time": "2022-02-24T20:35:07.678655",
     "exception": false,
     "start_time": "2022-02-24T20:35:03.102064",
     "status": "completed"
    },
    "tags": []
   },
   "outputs": [
    {
     "data": {
      "image/png": "[encoded data removed]",
      "text/plain": [
       "<Figure size 576x396 with 1 Axes>"
      ]
     },
     "metadata": {},
     "output_type": "display_data"
    }
   ],
   "source": [
    "learn.recorder.plot_loss()"
   ]
  },
  {
   "cell_type": "markdown",
   "metadata": {
    "papermill": {
     "duration": 4.085525,
     "end_time": "2022-02-24T20:35:15.800321",
     "exception": false,
     "start_time": "2022-02-24T20:35:11.714796",
     "status": "completed"
    },
    "tags": []
   },
   "source": [
    "<span style=\"color:Blue\"> Observation:\n",
    "* It seems that learning has ended before overffing. However, I still don't know if it is the optimal point. It is burdensome to increase the epoch because the training time is too long."
   ]
  },
  {
   "cell_type": "markdown",
   "metadata": {
    "papermill": {
     "duration": 4.169983,
     "end_time": "2022-02-24T20:35:24.164396",
     "exception": false,
     "start_time": "2022-02-24T20:35:19.994413",
     "status": "completed"
    },
    "tags": []
   },
   "source": [
    "----------------------------------------------\n",
    "# Checking Results"
   ]
  },
  {
   "cell_type": "markdown",
   "metadata": {
    "papermill": {
     "duration": 4.174074,
     "end_time": "2022-02-24T20:42:25.834680",
     "exception": false,
     "start_time": "2022-02-24T20:42:21.660606",
     "status": "completed"
    },
    "tags": []
   },
   "source": [
    "<span style=\"color:Blue\"> Observation:\n",
    "* Because there are many classes of Target, it is not good to look at.\n",
    "* If you look at the diagonal of the matrix, it seems that it has learned to some extent. However, it is not satisfactory."
   ]
  },
  {
   "cell_type": "markdown",
   "metadata": {
    "papermill": {
     "duration": 4.240555,
     "end_time": "2022-02-24T20:42:34.231761",
     "exception": false,
     "start_time": "2022-02-24T20:42:29.991206",
     "status": "completed"
    },
    "tags": []
   },
   "source": [
    "**Let's check the cases where the model made the most mistakes!**"
   ]
  },
  {
   "cell_type": "code",
   "execution_count": 30,
   "metadata": {
    "execution": {
     "iopub.execute_input": "2022-02-24T20:42:42.700106Z",
     "iopub.status.busy": "2022-02-24T20:42:42.699486Z",
     "iopub.status.idle": "2022-02-24T20:42:43.292400Z",
     "shell.execute_reply": "2022-02-24T20:42:43.292947Z",
     "shell.execute_reply.started": "2022-02-24T15:34:31.766554Z"
    },
    "papermill": {
     "duration": 4.842241,
     "end_time": "2022-02-24T20:42:43.293124",
     "exception": false,
     "start_time": "2022-02-24T20:42:38.450883",
     "status": "completed"
    },
    "tags": []
   },
   "outputs": [
    {
     "data": {
      "text/html": [
       "\n",
       "<style>\n",
       "    /* Turns off some styling */\n",
       "    progress {\n",
       "        /* gets rid of default border in Firefox and Opera. */\n",
       "        border: none;\n",
       "        /* Needs to be in here for Safari polyfill so background images work as expected. */\n",
       "        background-size: auto;\n",
       "    }\n",
       "    .progress-bar-interrupted, .progress-bar-interrupted::-webkit-progress-bar {\n",
       "        background: #F44336;\n",
       "    }\n",
       "</style>\n"
      ],
      "text/plain": [
       "<IPython.core.display.HTML object>"
      ]
     },
     "metadata": {},
     "output_type": "display_data"
    },
    {
     "data": {
      "text/html": [],
      "text/plain": [
       "<IPython.core.display.HTML object>"
      ]
     },
     "metadata": {},
     "output_type": "display_data"
    },
    {
     "data": {
      "text/plain": [
       "[('brnowl', 'bcnher', 16),\n",
       " ('bcnher', 'brnowl', 15),\n",
       " ('houfin', 'norcar', 11),\n",
       " ('rudtur', 'dunlin', 10)]"
      ]
     },
     "execution_count": 30,
     "metadata": {},
     "output_type": "execute_result"
    }
   ],
   "source": [
    "interp = ClassificationInterpretation.from_learner(learn)\n",
    "interp.most_confused(min_val=10)"
   ]
  },
  {
   "cell_type": "markdown",
   "metadata": {
    "papermill": {
     "duration": 4.235817,
     "end_time": "2022-02-24T20:42:52.319416",
     "exception": false,
     "start_time": "2022-02-24T20:42:48.083599",
     "status": "completed"
    },
    "tags": []
   },
   "source": [
    "<span style=\"color:Blue\"> Observation:\n",
    "* In the combination of 'bcnher' and 'brnowl', there are many cases where the judgment is exceptionally wrong. I guess I'll have to check more on why. "
   ]
  },
  {
   "cell_type": "markdown",
   "metadata": {},
   "source": [
    "# Unfreeze and retrain model"
   ]
  },
  {
   "cell_type": "code",
   "execution_count": 31,
   "metadata": {},
   "outputs": [],
   "source": [
    "learn.unfreeze()"
   ]
  },
  {
   "cell_type": "code",
   "execution_count": 33,
   "metadata": {},
   "outputs": [
    {
     "data": {
      "text/html": [
       "\n",
       "<style>\n",
       "    /* Turns off some styling */\n",
       "    progress {\n",
       "        /* gets rid of default border in Firefox and Opera. */\n",
       "        border: none;\n",
       "        /* Needs to be in here for Safari polyfill so background images work as expected. */\n",
       "        background-size: auto;\n",
       "    }\n",
       "    .progress-bar-interrupted, .progress-bar-interrupted::-webkit-progress-bar {\n",
       "        background: #F44336;\n",
       "    }\n",
       "</style>\n"
      ],
      "text/plain": [
       "<IPython.core.display.HTML object>"
      ]
     },
     "metadata": {},
     "output_type": "display_data"
    },
    {
     "data": {
      "text/html": [
       "<table border=\"1\" class=\"dataframe\">\n",
       "  <thead>\n",
       "    <tr style=\"text-align: left;\">\n",
       "      <th>epoch</th>\n",
       "      <th>train_loss</th>\n",
       "      <th>valid_loss</th>\n",
       "      <th>accuracy</th>\n",
       "      <th>time</th>\n",
       "    </tr>\n",
       "  </thead>\n",
       "  <tbody>\n",
       "    <tr>\n",
       "      <td>0</td>\n",
       "      <td>3.254294</td>\n",
       "      <td>3.518477</td>\n",
       "      <td>0.363300</td>\n",
       "      <td>05:00</td>\n",
       "    </tr>\n",
       "    <tr>\n",
       "      <td>1</td>\n",
       "      <td>3.159925</td>\n",
       "      <td>3.524372</td>\n",
       "      <td>0.368350</td>\n",
       "      <td>05:18</td>\n",
       "    </tr>\n",
       "    <tr>\n",
       "      <td>2</td>\n",
       "      <td>3.226796</td>\n",
       "      <td>3.531204</td>\n",
       "      <td>0.376094</td>\n",
       "      <td>04:56</td>\n",
       "    </tr>\n",
       "    <tr>\n",
       "      <td>3</td>\n",
       "      <td>3.197299</td>\n",
       "      <td>3.513385</td>\n",
       "      <td>0.369697</td>\n",
       "      <td>05:08</td>\n",
       "    </tr>\n",
       "    <tr>\n",
       "      <td>4</td>\n",
       "      <td>3.148704</td>\n",
       "      <td>3.575704</td>\n",
       "      <td>0.363300</td>\n",
       "      <td>05:05</td>\n",
       "    </tr>\n",
       "    <tr>\n",
       "      <td>5</td>\n",
       "      <td>3.190275</td>\n",
       "      <td>3.487633</td>\n",
       "      <td>0.388889</td>\n",
       "      <td>04:55</td>\n",
       "    </tr>\n",
       "    <tr>\n",
       "      <td>6</td>\n",
       "      <td>3.180172</td>\n",
       "      <td>3.472829</td>\n",
       "      <td>0.382155</td>\n",
       "      <td>05:06</td>\n",
       "    </tr>\n",
       "    <tr>\n",
       "      <td>7</td>\n",
       "      <td>3.160499</td>\n",
       "      <td>3.507531</td>\n",
       "      <td>0.373737</td>\n",
       "      <td>05:06</td>\n",
       "    </tr>\n",
       "    <tr>\n",
       "      <td>8</td>\n",
       "      <td>3.085646</td>\n",
       "      <td>3.517249</td>\n",
       "      <td>0.372391</td>\n",
       "      <td>05:00</td>\n",
       "    </tr>\n",
       "    <tr>\n",
       "      <td>9</td>\n",
       "      <td>3.171831</td>\n",
       "      <td>3.484553</td>\n",
       "      <td>0.377778</td>\n",
       "      <td>05:10</td>\n",
       "    </tr>\n",
       "  </tbody>\n",
       "</table>"
      ],
      "text/plain": [
       "<IPython.core.display.HTML object>"
      ]
     },
     "metadata": {},
     "output_type": "display_data"
    }
   ],
   "source": [
    "learn.fit_one_cycle(10, sr.lr_steep)"
   ]
  },
  {
   "cell_type": "code",
   "execution_count": null,
   "metadata": {},
   "outputs": [],
   "source": [
    "\n"
   ]
  }
 ],
 "metadata": {
  "kernelspec": {
   "display_name": "birdclef",
   "language": "python",
   "name": "birdclef"
  },
  "language_info": {
   "codemirror_mode": {
    "name": "ipython",
    "version": 3
   },
   "file_extension": ".py",
   "mimetype": "text/x-python",
   "name": "python",
   "nbconvert_exporter": "python",
   "pygments_lexer": "ipython3",
   "version": "3.8.12"
  },
  "papermill": {
   "default_parameters": {},
   "duration": 17996.244563,
   "end_time": "2022-02-24T20:43:16.601349",
   "environment_variables": {},
   "exception": null,
   "input_path": "__notebook__.ipynb",
   "output_path": "__notebook__.ipynb",
   "parameters": {},
   "start_time": "2022-02-24T15:43:20.356786",
   "version": "2.3.3"
  },
  "widgets": {
   "application/vnd.jupyter.widget-state+json": {
    "state": {
     "123f7b325eb449c8b13e4fd4af8bf369": {
      "model_module": "@jupyter-widgets/base",
      "model_module_version": "1.2.0",
      "model_name": "LayoutModel",
      "state": {
       "_model_module": "@jupyter-widgets/base",
       "_model_module_version": "1.2.0",
       "_model_name": "LayoutModel",
       "_view_count": null,
       "_view_module": "@jupyter-widgets/base",
       "_view_module_version": "1.2.0",
       "_view_name": "LayoutView",
       "align_content": null,
       "align_items": null,
       "align_self": null,
       "border": null,
       "bottom": null,
       "display": null,
       "flex": null,
       "flex_flow": null,
       "grid_area": null,
       "grid_auto_columns": null,
       "grid_auto_flow": null,
       "grid_auto_rows": null,
       "grid_column": null,
       "grid_gap": null,
       "grid_row": null,
       "grid_template_areas": null,
       "grid_template_columns": null,
       "grid_template_rows": null,
       "height": null,
       "justify_content": null,
       "justify_items": null,
       "left": null,
       "margin": null,
       "max_height": null,
       "max_width": null,
       "min_height": null,
       "min_width": null,
       "object_fit": null,
       "object_position": null,
       "order": null,
       "overflow": null,
       "overflow_x": null,
       "overflow_y": null,
       "padding": null,
       "right": null,
       "top": null,
       "visibility": null,
       "width": null
      }
     },
     "3a683348cce645ff98ddf3c3e188cc48": {
      "model_module": "@jupyter-widgets/controls",
      "model_module_version": "1.5.0",
      "model_name": "ProgressStyleModel",
      "state": {
       "_model_module": "@jupyter-widgets/controls",
       "_model_module_version": "1.5.0",
       "_model_name": "ProgressStyleModel",
       "_view_count": null,
       "_view_module": "@jupyter-widgets/base",
       "_view_module_version": "1.2.0",
       "_view_name": "StyleView",
       "bar_color": null,
       "description_width": ""
      }
     },
     "8fef9b0d05ff4f7a9731bee2222367b7": {
      "model_module": "@jupyter-widgets/controls",
      "model_module_version": "1.5.0",
      "model_name": "IntProgressModel",
      "state": {
       "_dom_classes": [],
       "_model_module": "@jupyter-widgets/controls",
       "_model_module_version": "1.5.0",
       "_model_name": "IntProgressModel",
       "_view_count": null,
       "_view_module": "@jupyter-widgets/controls",
       "_view_module_version": "1.5.0",
       "_view_name": "ProgressView",
       "bar_style": "",
       "description": "Processing: ",
       "description_tooltip": null,
       "layout": "IPY_MODEL_123f7b325eb449c8b13e4fd4af8bf369",
       "max": 3,
       "min": 0,
       "orientation": "horizontal",
       "style": "IPY_MODEL_d95b1d1e05f6413e86a2cd17ad6a9e55",
       "value": 3
      }
     },
     "a8e4a560d94740f2a516322b0520e1bf": {
      "model_module": "@jupyter-widgets/controls",
      "model_module_version": "1.5.0",
      "model_name": "IntProgressModel",
      "state": {
       "_dom_classes": [],
       "_model_module": "@jupyter-widgets/controls",
       "_model_module_version": "1.5.0",
       "_model_name": "IntProgressModel",
       "_view_count": null,
       "_view_module": "@jupyter-widgets/controls",
       "_view_module_version": "1.5.0",
       "_view_name": "ProgressView",
       "bar_style": "",
       "description": "Processing: ",
       "description_tooltip": null,
       "layout": "IPY_MODEL_ae6c2b5a5392426991c5fe17320163d5",
       "max": 5,
       "min": 0,
       "orientation": "horizontal",
       "style": "IPY_MODEL_3a683348cce645ff98ddf3c3e188cc48",
       "value": 5
      }
     },
     "ae6c2b5a5392426991c5fe17320163d5": {
      "model_module": "@jupyter-widgets/base",
      "model_module_version": "1.2.0",
      "model_name": "LayoutModel",
      "state": {
       "_model_module": "@jupyter-widgets/base",
       "_model_module_version": "1.2.0",
       "_model_name": "LayoutModel",
       "_view_count": null,
       "_view_module": "@jupyter-widgets/base",
       "_view_module_version": "1.2.0",
       "_view_name": "LayoutView",
       "align_content": null,
       "align_items": null,
       "align_self": null,
       "border": null,
       "bottom": null,
       "display": null,
       "flex": null,
       "flex_flow": null,
       "grid_area": null,
       "grid_auto_columns": null,
       "grid_auto_flow": null,
       "grid_auto_rows": null,
       "grid_column": null,
       "grid_gap": null,
       "grid_row": null,
       "grid_template_areas": null,
       "grid_template_columns": null,
       "grid_template_rows": null,
       "height": null,
       "justify_content": null,
       "justify_items": null,
       "left": null,
       "margin": null,
       "max_height": null,
       "max_width": null,
       "min_height": null,
       "min_width": null,
       "object_fit": null,
       "object_position": null,
       "order": null,
       "overflow": null,
       "overflow_x": null,
       "overflow_y": null,
       "padding": null,
       "right": null,
       "top": null,
       "visibility": null,
       "width": null
      }
     },
     "d95b1d1e05f6413e86a2cd17ad6a9e55": {
      "model_module": "@jupyter-widgets/controls",
      "model_module_version": "1.5.0",
      "model_name": "ProgressStyleModel",
      "state": {
       "_model_module": "@jupyter-widgets/controls",
       "_model_module_version": "1.5.0",
       "_model_name": "ProgressStyleModel",
       "_view_count": null,
       "_view_module": "@jupyter-widgets/base",
       "_view_module_version": "1.2.0",
       "_view_name": "StyleView",
       "bar_color": null,
       "description_width": ""
      }
     }
    },
    "version_major": 2,
    "version_minor": 0
   }
  }
 },
 "nbformat": 4,
 "nbformat_minor": 5
}
